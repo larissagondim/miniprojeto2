{
 "cells": [
  {
   "cell_type": "markdown",
   "metadata": {},
   "source": [
    "# Extração de Features e Construção do Modelo"
   ]
  },
  {
   "cell_type": "markdown",
   "metadata": {},
   "source": [
    "### 1. Introdução a Extração de Features\n",
    "- A extração de features é uma parte muito importante na análise e na identificação de relações entre diferentes elementos. Como já sabemos, os dados de áudio não podem ser compreendidos diretamente pelos modelos, então precisamos convertê-los para um formato inteligível, e é para isso que a extração de features é utilizada.\n"
   ]
  },
  {
   "cell_type": "markdown",
   "metadata": {},
   "source": [
    "#### Com a taxa de amostragem e os dados do sinal, podemos realizar diversas transformações para extrair características valiosas do áudio. No entanto, neste projeto, não vamos aprofundar no processo de seleção de features para identificar quais são mais relevantes para o nosso dataset. Em vez disso, vamos extrair cinco features principais para treinar nosso modelo:\n",
    "- **Zero Crossing Rate (ZCR):** Mede a taxa de mudanças de sinal no áudio, ou seja, quantas vezes ele cruza o eixo zero em um determinado intervalo de tempo. Essa feature é útil para distinguir sons percussivos e não percussivos.\n",
    "- **Chroma STFT:** Representa a energia espectral em 12 bins correspondentes às notas da escala musical ocidental. Essa característica é útil para identificar padrões harmônicos no áudio.\n",
    "- **MFCC (Mel-Frequency Cepstral Coefficients):** Converte a frequência do áudio para a escala mel, aproximando-se da percepção auditiva humana. É uma das features mais utilizadas em reconhecimento de fala e emoção.\n",
    "- **RMS (Root Mean Square):** Mede a energia do sinal ao calcular a média quadrática das amplitudes do áudio. Essa feature ajuda a representar a intensidade do som.\n",
    "- **Mel Spectrogram:** Representa a distribuição de energia do áudio em diferentes faixas de frequência na escala mel, capturando informações espectrais essenciais."
   ]
  },
  {
   "cell_type": "markdown",
   "metadata": {},
   "source": [
    "### 1.1. Importando as bibliotecas"
   ]
  },
  {
   "cell_type": "code",
   "execution_count": 19,
   "metadata": {},
   "outputs": [],
   "source": [
    "import pandas as pd\n",
    "import numpy as np\n",
    "\n",
    "import pickle\n",
    "import os\n",
    "import sys\n",
    "\n",
    "import librosa\n",
    "import librosa.display\n",
    "import seaborn as sns\n",
    "import matplotlib.pyplot as plt\n",
    "\n",
    "from sklearn.preprocessing import StandardScaler, OneHotEncoder\n",
    "from sklearn.metrics import confusion_matrix, classification_report\n",
    "from sklearn.model_selection import train_test_split\n",
    "\n",
    "from IPython.display import Audio\n",
    "\n",
    "import keras\n",
    "from keras.callbacks import ReduceLROnPlateau\n",
    "from keras.models import Sequential\n",
    "from keras.layers import Dense, Conv1D, MaxPooling1D, Flatten, Dropout, BatchNormalization\n",
    "from keras.utils import to_categorical\n",
    "from keras.callbacks import ModelCheckpoint\n",
    "\n",
    "import warnings\n",
    "if not sys.warnoptions:\n",
    "    warnings.simplefilter(\"ignore\")\n",
    "warnings.filterwarnings(\"ignore\", category=DeprecationWarning) "
   ]
  },
  {
   "cell_type": "markdown",
   "metadata": {},
   "source": [
    "### 1.2. Carregar o Dataframe da EDA "
   ]
  },
  {
   "cell_type": "code",
   "execution_count": 20,
   "metadata": {},
   "outputs": [],
   "source": [
    "data_path = \"/home/larissa/Downloads/Trilha/miniprojeto2/data/ravdess_preprocessed.csv\" \n",
    "df = pd.read_csv(data_path)"
   ]
  },
  {
   "cell_type": "code",
   "execution_count": 21,
   "metadata": {},
   "outputs": [
    {
     "data": {
      "text/html": [
       "<div>\n",
       "<style scoped>\n",
       "    .dataframe tbody tr th:only-of-type {\n",
       "        vertical-align: middle;\n",
       "    }\n",
       "\n",
       "    .dataframe tbody tr th {\n",
       "        vertical-align: top;\n",
       "    }\n",
       "\n",
       "    .dataframe thead th {\n",
       "        text-align: right;\n",
       "    }\n",
       "</style>\n",
       "<table border=\"1\" class=\"dataframe\">\n",
       "  <thead>\n",
       "    <tr style=\"text-align: right;\">\n",
       "      <th></th>\n",
       "      <th>Emotions</th>\n",
       "      <th>Path</th>\n",
       "      <th>Processed_Path</th>\n",
       "    </tr>\n",
       "  </thead>\n",
       "  <tbody>\n",
       "    <tr>\n",
       "      <th>0</th>\n",
       "      <td>disgust</td>\n",
       "      <td>/home/larissa/Downloads/Trilha/miniprojeto2/no...</td>\n",
       "      <td>/home/larissa/Downloads/Trilha/miniprojeto2/da...</td>\n",
       "    </tr>\n",
       "    <tr>\n",
       "      <th>1</th>\n",
       "      <td>surprise</td>\n",
       "      <td>/home/larissa/Downloads/Trilha/miniprojeto2/no...</td>\n",
       "      <td>/home/larissa/Downloads/Trilha/miniprojeto2/da...</td>\n",
       "    </tr>\n",
       "    <tr>\n",
       "      <th>2</th>\n",
       "      <td>calm</td>\n",
       "      <td>/home/larissa/Downloads/Trilha/miniprojeto2/no...</td>\n",
       "      <td>/home/larissa/Downloads/Trilha/miniprojeto2/da...</td>\n",
       "    </tr>\n",
       "    <tr>\n",
       "      <th>3</th>\n",
       "      <td>happy</td>\n",
       "      <td>/home/larissa/Downloads/Trilha/miniprojeto2/no...</td>\n",
       "      <td>/home/larissa/Downloads/Trilha/miniprojeto2/da...</td>\n",
       "    </tr>\n",
       "    <tr>\n",
       "      <th>4</th>\n",
       "      <td>angry</td>\n",
       "      <td>/home/larissa/Downloads/Trilha/miniprojeto2/no...</td>\n",
       "      <td>/home/larissa/Downloads/Trilha/miniprojeto2/da...</td>\n",
       "    </tr>\n",
       "    <tr>\n",
       "      <th>...</th>\n",
       "      <td>...</td>\n",
       "      <td>...</td>\n",
       "      <td>...</td>\n",
       "    </tr>\n",
       "    <tr>\n",
       "      <th>1435</th>\n",
       "      <td>sad</td>\n",
       "      <td>/home/larissa/Downloads/Trilha/miniprojeto2/no...</td>\n",
       "      <td>/home/larissa/Downloads/Trilha/miniprojeto2/da...</td>\n",
       "    </tr>\n",
       "    <tr>\n",
       "      <th>1436</th>\n",
       "      <td>happy</td>\n",
       "      <td>/home/larissa/Downloads/Trilha/miniprojeto2/no...</td>\n",
       "      <td>/home/larissa/Downloads/Trilha/miniprojeto2/da...</td>\n",
       "    </tr>\n",
       "    <tr>\n",
       "      <th>1437</th>\n",
       "      <td>angry</td>\n",
       "      <td>/home/larissa/Downloads/Trilha/miniprojeto2/no...</td>\n",
       "      <td>/home/larissa/Downloads/Trilha/miniprojeto2/da...</td>\n",
       "    </tr>\n",
       "    <tr>\n",
       "      <th>1438</th>\n",
       "      <td>sad</td>\n",
       "      <td>/home/larissa/Downloads/Trilha/miniprojeto2/no...</td>\n",
       "      <td>/home/larissa/Downloads/Trilha/miniprojeto2/da...</td>\n",
       "    </tr>\n",
       "    <tr>\n",
       "      <th>1439</th>\n",
       "      <td>calm</td>\n",
       "      <td>/home/larissa/Downloads/Trilha/miniprojeto2/no...</td>\n",
       "      <td>/home/larissa/Downloads/Trilha/miniprojeto2/da...</td>\n",
       "    </tr>\n",
       "  </tbody>\n",
       "</table>\n",
       "<p>1440 rows × 3 columns</p>\n",
       "</div>"
      ],
      "text/plain": [
       "      Emotions                                               Path  \\\n",
       "0      disgust  /home/larissa/Downloads/Trilha/miniprojeto2/no...   \n",
       "1     surprise  /home/larissa/Downloads/Trilha/miniprojeto2/no...   \n",
       "2         calm  /home/larissa/Downloads/Trilha/miniprojeto2/no...   \n",
       "3        happy  /home/larissa/Downloads/Trilha/miniprojeto2/no...   \n",
       "4        angry  /home/larissa/Downloads/Trilha/miniprojeto2/no...   \n",
       "...        ...                                                ...   \n",
       "1435       sad  /home/larissa/Downloads/Trilha/miniprojeto2/no...   \n",
       "1436     happy  /home/larissa/Downloads/Trilha/miniprojeto2/no...   \n",
       "1437     angry  /home/larissa/Downloads/Trilha/miniprojeto2/no...   \n",
       "1438       sad  /home/larissa/Downloads/Trilha/miniprojeto2/no...   \n",
       "1439      calm  /home/larissa/Downloads/Trilha/miniprojeto2/no...   \n",
       "\n",
       "                                         Processed_Path  \n",
       "0     /home/larissa/Downloads/Trilha/miniprojeto2/da...  \n",
       "1     /home/larissa/Downloads/Trilha/miniprojeto2/da...  \n",
       "2     /home/larissa/Downloads/Trilha/miniprojeto2/da...  \n",
       "3     /home/larissa/Downloads/Trilha/miniprojeto2/da...  \n",
       "4     /home/larissa/Downloads/Trilha/miniprojeto2/da...  \n",
       "...                                                 ...  \n",
       "1435  /home/larissa/Downloads/Trilha/miniprojeto2/da...  \n",
       "1436  /home/larissa/Downloads/Trilha/miniprojeto2/da...  \n",
       "1437  /home/larissa/Downloads/Trilha/miniprojeto2/da...  \n",
       "1438  /home/larissa/Downloads/Trilha/miniprojeto2/da...  \n",
       "1439  /home/larissa/Downloads/Trilha/miniprojeto2/da...  \n",
       "\n",
       "[1440 rows x 3 columns]"
      ]
     },
     "execution_count": 21,
     "metadata": {},
     "output_type": "execute_result"
    }
   ],
   "source": [
    "df"
   ]
  },
  {
   "cell_type": "code",
   "execution_count": 22,
   "metadata": {},
   "outputs": [
    {
     "name": "stdout",
     "output_type": "stream",
     "text": [
      "<class 'pandas.core.frame.DataFrame'>\n",
      "RangeIndex: 1440 entries, 0 to 1439\n",
      "Data columns (total 3 columns):\n",
      " #   Column          Non-Null Count  Dtype \n",
      "---  ------          --------------  ----- \n",
      " 0   Emotions        1440 non-null   object\n",
      " 1   Path            1440 non-null   object\n",
      " 2   Processed_Path  1440 non-null   object\n",
      "dtypes: object(3)\n",
      "memory usage: 33.9+ KB\n"
     ]
    },
    {
     "data": {
      "text/plain": [
       "Emotions          0\n",
       "Path              0\n",
       "Processed_Path    0\n",
       "dtype: int64"
      ]
     },
     "execution_count": 22,
     "metadata": {},
     "output_type": "execute_result"
    }
   ],
   "source": [
    "df.info()\n",
    "df.isnull().sum() # sem valores nulos"
   ]
  },
  {
   "cell_type": "code",
   "execution_count": 23,
   "metadata": {},
   "outputs": [
    {
     "data": {
      "text/html": [
       "<div>\n",
       "<style scoped>\n",
       "    .dataframe tbody tr th:only-of-type {\n",
       "        vertical-align: middle;\n",
       "    }\n",
       "\n",
       "    .dataframe tbody tr th {\n",
       "        vertical-align: top;\n",
       "    }\n",
       "\n",
       "    .dataframe thead th {\n",
       "        text-align: right;\n",
       "    }\n",
       "</style>\n",
       "<table border=\"1\" class=\"dataframe\">\n",
       "  <thead>\n",
       "    <tr style=\"text-align: right;\">\n",
       "      <th></th>\n",
       "      <th>Emotions</th>\n",
       "      <th>Path</th>\n",
       "      <th>Processed_Path</th>\n",
       "    </tr>\n",
       "  </thead>\n",
       "  <tbody>\n",
       "    <tr>\n",
       "      <th>count</th>\n",
       "      <td>1440</td>\n",
       "      <td>1440</td>\n",
       "      <td>1440</td>\n",
       "    </tr>\n",
       "    <tr>\n",
       "      <th>unique</th>\n",
       "      <td>8</td>\n",
       "      <td>1440</td>\n",
       "      <td>1440</td>\n",
       "    </tr>\n",
       "    <tr>\n",
       "      <th>top</th>\n",
       "      <td>disgust</td>\n",
       "      <td>/home/larissa/Downloads/Trilha/miniprojeto2/no...</td>\n",
       "      <td>/home/larissa/Downloads/Trilha/miniprojeto2/da...</td>\n",
       "    </tr>\n",
       "    <tr>\n",
       "      <th>freq</th>\n",
       "      <td>192</td>\n",
       "      <td>1</td>\n",
       "      <td>1</td>\n",
       "    </tr>\n",
       "  </tbody>\n",
       "</table>\n",
       "</div>"
      ],
      "text/plain": [
       "       Emotions                                               Path  \\\n",
       "count      1440                                               1440   \n",
       "unique        8                                               1440   \n",
       "top     disgust  /home/larissa/Downloads/Trilha/miniprojeto2/no...   \n",
       "freq        192                                                  1   \n",
       "\n",
       "                                           Processed_Path  \n",
       "count                                                1440  \n",
       "unique                                               1440  \n",
       "top     /home/larissa/Downloads/Trilha/miniprojeto2/da...  \n",
       "freq                                                    1  "
      ]
     },
     "execution_count": 23,
     "metadata": {},
     "output_type": "execute_result"
    }
   ],
   "source": [
    "df.describe()"
   ]
  },
  {
   "cell_type": "markdown",
   "metadata": {},
   "source": [
    "### 2. Criando uma função para extração das features"
   ]
  },
  {
   "cell_type": "markdown",
   "metadata": {},
   "source": [
    "##### Fizemos essa parte no notebook passado, então você pode copiar e colar o código das funções aqui, pois precisaremos delas:"
   ]
  },
  {
   "cell_type": "code",
   "execution_count": 24,
   "metadata": {},
   "outputs": [],
   "source": [
    "def noise(data):\n",
    "    noise_amp = 0.035 * np.random.uniform() * np.max(data)\n",
    "    data += noise_amp * np.random.normal(size=data.shape[0])\n",
    "    return data\n",
    "\n",
    "def stretch(data, rate=0.8):\n",
    "    return librosa.effects.time_stretch(y=data, rate=rate)\n",
    "\n",
    "def shift(data):\n",
    "    valormax = len(data)\n",
    "    shift_range = np.random.randint(valormax)\n",
    "    return np.roll(data, shift_range)\n",
    "\n",
    "def pitch(data, sampling_rate, n_steps=4):\n",
    "    return librosa.effects.pitch_shift(y=data, sr=sampling_rate, n_steps=n_steps)"
   ]
  },
  {
   "cell_type": "markdown",
   "metadata": {},
   "source": [
    "##### Aqui você deve extrair essas features de fato... mais tarde você precisará delas :)"
   ]
  },
  {
   "cell_type": "code",
   "execution_count": 25,
   "metadata": {},
   "outputs": [],
   "source": [
    "def extract_features(data, sample_rate): \n",
    "    result = np.array([])\n",
    "\n",
    "    zcr = librosa.feature.zero_crossing_rate(data)\n",
    "    zcr_mean = np.mean(zcr, axis=1)\n",
    "    result = np.hstack((result, zcr_mean))\n",
    "\n",
    "    chroma_stft = librosa.feature.chroma_stft(y=data, sr=sample_rate)\n",
    "    chroma_stft_mean = np.mean(chroma_stft, axis=1)\n",
    "    result = np.hstack((result, chroma_stft_mean))\n",
    "\n",
    "    mfcc = librosa.feature.mfcc(y=data, sr=sample_rate, n_mfcc=13)\n",
    "    mfcc_mean = np.mean(mfcc, axis=1)\n",
    "    result = np.hstack((result, mfcc_mean))\n",
    "\n",
    "    rms = librosa.feature.rms(y=data)\n",
    "    rms_mean = np.mean(rms, axis=1)\n",
    "    result = np.hstack((result, rms_mean))\n",
    "\n",
    "    mel = librosa.feature.melspectrogram(y=data, sr=sample_rate, n_mels=128)\n",
    "    mel = librosa.power_to_db(mel, ref=np.max)\n",
    "    mel_mean = np.mean(mel, axis=1)\n",
    "    result = np.hstack((result, mel_mean))\n",
    "    \n",
    "    return result\n",
    "\n",
    "def get_features(path):\n",
    "    # Carregar áudio\n",
    "    data, sample_rate = librosa.load(path, duration=2.5, offset=0.6)\n",
    "\n",
    "    # Sem aumento de dados\n",
    "    res1 = extract_features(data, sample_rate)  \n",
    "    result = np.array(res1)\n",
    "\n",
    "    # Com ruído\n",
    "    noise_data = noise(data)\n",
    "    res2 = extract_features(noise_data, sample_rate)  \n",
    "    result = np.vstack((result, res2))\n",
    "\n",
    "    # Com alongamento e mudança de pitch\n",
    "    new_data = stretch(data)\n",
    "    data_stretch_pitch = pitch(new_data, sample_rate)\n",
    "    res3 = extract_features(data_stretch_pitch, sample_rate) \n",
    "    result = np.vstack((result, res3))\n",
    "    \n",
    "    return result"
   ]
  },
  {
   "cell_type": "markdown",
   "metadata": {},
   "source": [
    "##### Rode as células abaixo"
   ]
  },
  {
   "cell_type": "code",
   "execution_count": 54,
   "metadata": {},
   "outputs": [
    {
     "ename": "KeyboardInterrupt",
     "evalue": "",
     "output_type": "error",
     "traceback": [
      "\u001b[31m---------------------------------------------------------------------------\u001b[39m",
      "\u001b[31mKeyboardInterrupt\u001b[39m                         Traceback (most recent call last)",
      "\u001b[36mCell\u001b[39m\u001b[36m \u001b[39m\u001b[32mIn[54]\u001b[39m\u001b[32m, line 3\u001b[39m\n\u001b[32m      1\u001b[39m X, Y = [], []\n\u001b[32m      2\u001b[39m \u001b[38;5;28;01mfor\u001b[39;00m path, emotion \u001b[38;5;129;01min\u001b[39;00m \u001b[38;5;28mzip\u001b[39m(df[\u001b[33m'\u001b[39m\u001b[33mPath\u001b[39m\u001b[33m'\u001b[39m], df[\u001b[33m'\u001b[39m\u001b[33mEmotions\u001b[39m\u001b[33m'\u001b[39m]):\n\u001b[32m----> \u001b[39m\u001b[32m3\u001b[39m     feature = \u001b[43mget_features\u001b[49m\u001b[43m(\u001b[49m\u001b[43mpath\u001b[49m\u001b[43m)\u001b[49m\n\u001b[32m      4\u001b[39m     \u001b[38;5;66;03m# Appending emotion 3 times as we have made 3 augmentation techniques on each audio file.\u001b[39;00m\n\u001b[32m      5\u001b[39m     \u001b[38;5;28;01mfor\u001b[39;00m ele \u001b[38;5;129;01min\u001b[39;00m feature:\n",
      "\u001b[36mCell\u001b[39m\u001b[36m \u001b[39m\u001b[32mIn[33]\u001b[39m\u001b[32m, line 23\u001b[39m, in \u001b[36mget_features\u001b[39m\u001b[34m(path)\u001b[39m\n\u001b[32m     19\u001b[39m features.append(extract_features(data, sample_rate))\n\u001b[32m     21\u001b[39m features.append(extract_features(noise(data), sample_rate))\n\u001b[32m---> \u001b[39m\u001b[32m23\u001b[39m features.append(extract_features(\u001b[43mpitch\u001b[49m\u001b[43m(\u001b[49m\u001b[43mdata\u001b[49m\u001b[43m,\u001b[49m\u001b[43m \u001b[49m\u001b[43msample_rate\u001b[49m\u001b[43m)\u001b[49m, sample_rate))\n\u001b[32m     25\u001b[39m features.append(extract_features(stretch(data), sample_rate))\n\u001b[32m     27\u001b[39m noise_pitch = pitch(noise(data), sample_rate)\n",
      "\u001b[36mCell\u001b[39m\u001b[36m \u001b[39m\u001b[32mIn[24]\u001b[39m\u001b[32m, line 15\u001b[39m, in \u001b[36mpitch\u001b[39m\u001b[34m(data, sampling_rate, n_steps)\u001b[39m\n\u001b[32m     14\u001b[39m \u001b[38;5;28;01mdef\u001b[39;00m\u001b[38;5;250m \u001b[39m\u001b[34mpitch\u001b[39m(data, sampling_rate, n_steps=\u001b[32m4\u001b[39m):\n\u001b[32m---> \u001b[39m\u001b[32m15\u001b[39m     \u001b[38;5;28;01mreturn\u001b[39;00m \u001b[43mlibrosa\u001b[49m\u001b[43m.\u001b[49m\u001b[43meffects\u001b[49m\u001b[43m.\u001b[49m\u001b[43mpitch_shift\u001b[49m\u001b[43m(\u001b[49m\u001b[43my\u001b[49m\u001b[43m=\u001b[49m\u001b[43mdata\u001b[49m\u001b[43m,\u001b[49m\u001b[43m \u001b[49m\u001b[43msr\u001b[49m\u001b[43m=\u001b[49m\u001b[43msampling_rate\u001b[49m\u001b[43m,\u001b[49m\u001b[43m \u001b[49m\u001b[43mn_steps\u001b[49m\u001b[43m=\u001b[49m\u001b[43mn_steps\u001b[49m\u001b[43m)\u001b[49m\n",
      "\u001b[36mFile \u001b[39m\u001b[32m/var/data/python/lib/python3.12/site-packages/librosa/effects.py:478\u001b[39m, in \u001b[36mpitch_shift\u001b[39m\u001b[34m(y, sr, n_steps, bins_per_octave, res_type, scale, **kwargs)\u001b[39m\n\u001b[32m    474\u001b[39m rate = \u001b[32m2.0\u001b[39m ** (-\u001b[38;5;28mfloat\u001b[39m(n_steps) / bins_per_octave)\n\u001b[32m    476\u001b[39m \u001b[38;5;66;03m# Stretch in time, then resample\u001b[39;00m\n\u001b[32m    477\u001b[39m y_shift = core.resample(\n\u001b[32m--> \u001b[39m\u001b[32m478\u001b[39m     \u001b[43mtime_stretch\u001b[49m\u001b[43m(\u001b[49m\u001b[43my\u001b[49m\u001b[43m,\u001b[49m\u001b[43m \u001b[49m\u001b[43mrate\u001b[49m\u001b[43m=\u001b[49m\u001b[43mrate\u001b[49m\u001b[43m,\u001b[49m\u001b[43m \u001b[49m\u001b[43m*\u001b[49m\u001b[43m*\u001b[49m\u001b[43mkwargs\u001b[49m\u001b[43m)\u001b[49m,\n\u001b[32m    479\u001b[39m     orig_sr=\u001b[38;5;28mfloat\u001b[39m(sr) / rate,\n\u001b[32m    480\u001b[39m     target_sr=sr,\n\u001b[32m    481\u001b[39m     res_type=res_type,\n\u001b[32m    482\u001b[39m     scale=scale,\n\u001b[32m    483\u001b[39m )\n\u001b[32m    485\u001b[39m \u001b[38;5;66;03m# Crop to the same dimension as the input\u001b[39;00m\n\u001b[32m    486\u001b[39m \u001b[38;5;28;01mreturn\u001b[39;00m util.fix_length(y_shift, size=y.shape[-\u001b[32m1\u001b[39m])\n",
      "\u001b[36mFile \u001b[39m\u001b[32m/var/data/python/lib/python3.12/site-packages/librosa/effects.py:383\u001b[39m, in \u001b[36mtime_stretch\u001b[39m\u001b[34m(y, rate, **kwargs)\u001b[39m\n\u001b[32m    380\u001b[39m stft = core.stft(y, **kwargs)\n\u001b[32m    382\u001b[39m \u001b[38;5;66;03m# Stretch by phase vocoding\u001b[39;00m\n\u001b[32m--> \u001b[39m\u001b[32m383\u001b[39m stft_stretch = \u001b[43mcore\u001b[49m\u001b[43m.\u001b[49m\u001b[43mphase_vocoder\u001b[49m\u001b[43m(\u001b[49m\n\u001b[32m    384\u001b[39m \u001b[43m    \u001b[49m\u001b[43mstft\u001b[49m\u001b[43m,\u001b[49m\n\u001b[32m    385\u001b[39m \u001b[43m    \u001b[49m\u001b[43mrate\u001b[49m\u001b[43m=\u001b[49m\u001b[43mrate\u001b[49m\u001b[43m,\u001b[49m\n\u001b[32m    386\u001b[39m \u001b[43m    \u001b[49m\u001b[43mhop_length\u001b[49m\u001b[43m=\u001b[49m\u001b[43mkwargs\u001b[49m\u001b[43m.\u001b[49m\u001b[43mget\u001b[49m\u001b[43m(\u001b[49m\u001b[33;43m\"\u001b[39;49m\u001b[33;43mhop_length\u001b[39;49m\u001b[33;43m\"\u001b[39;49m\u001b[43m,\u001b[49m\u001b[43m \u001b[49m\u001b[38;5;28;43;01mNone\u001b[39;49;00m\u001b[43m)\u001b[49m\u001b[43m,\u001b[49m\n\u001b[32m    387\u001b[39m \u001b[43m    \u001b[49m\u001b[43mn_fft\u001b[49m\u001b[43m=\u001b[49m\u001b[43mkwargs\u001b[49m\u001b[43m.\u001b[49m\u001b[43mget\u001b[49m\u001b[43m(\u001b[49m\u001b[33;43m\"\u001b[39;49m\u001b[33;43mn_fft\u001b[39;49m\u001b[33;43m\"\u001b[39;49m\u001b[43m,\u001b[49m\u001b[43m \u001b[49m\u001b[38;5;28;43;01mNone\u001b[39;49;00m\u001b[43m)\u001b[49m\u001b[43m,\u001b[49m\n\u001b[32m    388\u001b[39m \u001b[43m\u001b[49m\u001b[43m)\u001b[49m\n\u001b[32m    390\u001b[39m \u001b[38;5;66;03m# Predict the length of y_stretch\u001b[39;00m\n\u001b[32m    391\u001b[39m len_stretch = \u001b[38;5;28mint\u001b[39m(\u001b[38;5;28mround\u001b[39m(y.shape[-\u001b[32m1\u001b[39m] / rate))\n",
      "\u001b[36mFile \u001b[39m\u001b[32m/var/data/python/lib/python3.12/site-packages/librosa/core/spectrum.py:1468\u001b[39m, in \u001b[36mphase_vocoder\u001b[39m\u001b[34m(D, rate, hop_length, n_fft)\u001b[39m\n\u001b[32m   1465\u001b[39m dphase = np.angle(columns[..., \u001b[32m1\u001b[39m]) - np.angle(columns[..., \u001b[32m0\u001b[39m]) - phi_advance\n\u001b[32m   1467\u001b[39m \u001b[38;5;66;03m# Wrap to -pi:pi range\u001b[39;00m\n\u001b[32m-> \u001b[39m\u001b[32m1468\u001b[39m dphase = dphase - \u001b[32m2.0\u001b[39m * np.pi * \u001b[43mnp\u001b[49m\u001b[43m.\u001b[49m\u001b[43mround\u001b[49m\u001b[43m(\u001b[49m\u001b[43mdphase\u001b[49m\u001b[43m \u001b[49m\u001b[43m/\u001b[49m\u001b[43m \u001b[49m\u001b[43m(\u001b[49m\u001b[32;43m2.0\u001b[39;49m\u001b[43m \u001b[49m\u001b[43m*\u001b[49m\u001b[43m \u001b[49m\u001b[43mnp\u001b[49m\u001b[43m.\u001b[49m\u001b[43mpi\u001b[49m\u001b[43m)\u001b[49m\u001b[43m)\u001b[49m\n\u001b[32m   1470\u001b[39m \u001b[38;5;66;03m# Accumulate phase\u001b[39;00m\n\u001b[32m   1471\u001b[39m phase_acc += phi_advance + dphase\n",
      "\u001b[36mFile \u001b[39m\u001b[32m/var/data/python/lib/python3.12/site-packages/numpy/_core/fromnumeric.py:3614\u001b[39m, in \u001b[36m_round_dispatcher\u001b[39m\u001b[34m(a, decimals, out)\u001b[39m\n\u001b[32m   3610\u001b[39m         \u001b[38;5;28;01mexcept\u001b[39;00m \u001b[38;5;167;01mAttributeError\u001b[39;00m:\n\u001b[32m   3611\u001b[39m             \u001b[38;5;28;01mreturn\u001b[39;00m asarray(a).shape[axis]\n\u001b[32m-> \u001b[39m\u001b[32m3614\u001b[39m \u001b[38;5;28;01mdef\u001b[39;00m\u001b[38;5;250m \u001b[39m\u001b[34m_round_dispatcher\u001b[39m(a, decimals=\u001b[38;5;28;01mNone\u001b[39;00m, out=\u001b[38;5;28;01mNone\u001b[39;00m):\n\u001b[32m   3615\u001b[39m     \u001b[38;5;28;01mreturn\u001b[39;00m (a, out)\n\u001b[32m   3618\u001b[39m \u001b[38;5;129m@array_function_dispatch\u001b[39m(_round_dispatcher)\n\u001b[32m   3619\u001b[39m \u001b[38;5;28;01mdef\u001b[39;00m\u001b[38;5;250m \u001b[39m\u001b[34mround\u001b[39m(a, decimals=\u001b[32m0\u001b[39m, out=\u001b[38;5;28;01mNone\u001b[39;00m):\n",
      "\u001b[31mKeyboardInterrupt\u001b[39m: "
     ]
    }
   ],
   "source": [
    "X, Y = [], []\n",
    "for path, emotion in zip(df['Path'], df['Emotions']):\n",
    "    feature = get_features(path)\n",
    "    # Appending emotion 3 times as we have made 3 augmentation techniques on each audio file.\n",
    "    for ele in feature:\n",
    "        X.append(ele)\n",
    "        Y.append(emotion)"
   ]
  },
  {
   "cell_type": "code",
   "execution_count": null,
   "metadata": {},
   "outputs": [
    {
     "data": {
      "text/plain": [
       "(4320, 4320, (1440,))"
      ]
     },
     "execution_count": 9,
     "metadata": {},
     "output_type": "execute_result"
    }
   ],
   "source": [
    "len(X), len(Y), df.Path.shape"
   ]
  },
  {
   "cell_type": "markdown",
   "metadata": {},
   "source": [
    "##### Agora você deverá salvar o csv de features (features.csv)"
   ]
  },
  {
   "cell_type": "code",
   "execution_count": null,
   "metadata": {},
   "outputs": [
    {
     "name": "stdout",
     "output_type": "stream",
     "text": [
      "O arquivo foi salvo em: /home/larissa/Downloads/Trilha/miniprojeto2/data/features.csv\n"
     ]
    }
   ],
   "source": [
    "data_dir = os.path.join(os.path.dirname(os.getcwd()), \"data\")\n",
    "os.makedirs(data_dir, exist_ok=True)\n",
    "\n",
    "csv_path = os.path.join(data_dir, \"features.csv\")\n",
    "\n",
    "features_df = pd.DataFrame(X)\n",
    "features_df[\"labels\"] = Y\n",
    "features_df.to_csv(csv_path, index=False)\n",
    "\n",
    "print(f\"O arquivo foi salvo em: {csv_path}\")"
   ]
  },
  {
   "cell_type": "markdown",
   "metadata": {},
   "source": [
    "### 2.1. Data Preparation (Preparação dos Dados)"
   ]
  },
  {
   "cell_type": "code",
   "execution_count": null,
   "metadata": {},
   "outputs": [],
   "source": [
    "X = features_df.iloc[: ,:-1].values\n",
    "Y = features_df['labels'].values"
   ]
  },
  {
   "cell_type": "code",
   "execution_count": null,
   "metadata": {},
   "outputs": [],
   "source": [
    "encoder = OneHotEncoder(sparse_output=False)\n",
    "Y_encoded = encoder.fit_transform(Y.reshape(-1, 1))\n"
   ]
  },
  {
   "cell_type": "code",
   "execution_count": null,
   "metadata": {},
   "outputs": [
    {
     "name": "stdout",
     "output_type": "stream",
     "text": [
      "Formato dos dados de treino: (2592, 155) && (2592, 8)\n",
      "Formato dos dados de teste: (1728, 155) && (1728, 8)\n"
     ]
    }
   ],
   "source": [
    "X_train, X_test, Y_train, Y_test = train_test_split(X, Y_encoded, test_size=0.4, random_state=42)\n",
    "print(f\"Formato dos dados de treino: {X_train.shape} && {Y_train.shape}\")\n",
    "print(f\"Formato dos dados de teste: {X_test.shape} && {Y_test.shape}\")\n"
   ]
  },
  {
   "cell_type": "code",
   "execution_count": null,
   "metadata": {},
   "outputs": [],
   "source": [
    "stdScaler = StandardScaler()\n",
    "X_train = stdScaler.fit_transform(X_train)\n",
    "X_test = stdScaler.transform(X_test)"
   ]
  },
  {
   "cell_type": "code",
   "execution_count": null,
   "metadata": {},
   "outputs": [
    {
     "name": "stdout",
     "output_type": "stream",
     "text": [
      "Dimensões corretas após expansão: \n"
     ]
    },
    {
     "data": {
      "text/plain": [
       "((2592, 155, 1), (2592, 8), (2592, 155, 1), (1728, 8))"
      ]
     },
     "execution_count": 15,
     "metadata": {},
     "output_type": "execute_result"
    }
   ],
   "source": [
    "# Rode essa célula para deixar as dimensões certinhas com o modelo que iremos criar.\n",
    "X_train = np.expand_dims(X_train, axis=2)\n",
    "X_test = np.expand_dims(X_test, axis=2)\n",
    "print(\"Dimensões corretas após expansão: \")\n",
    "X_train.shape, Y_train.shape, X_train.shape, Y_test.shape"
   ]
  },
  {
   "cell_type": "markdown",
   "metadata": {},
   "source": [
    "### 3. Model Training (Modelling)"
   ]
  },
  {
   "cell_type": "markdown",
   "metadata": {},
   "source": [
    "#### O modelo que vamos usar é uma rede neural convolucional (CNN) projetada para processar os dados extraídos dos arquivos de áudio. Essa estrutura é ideal para capturar padrões espectrais, como variações de tom e intensidade. A CNN é composta por:\n",
    "- Camadas Convolucionais (Conv1D): Extraem características do espectro do áudio.\n",
    "- Camadas de Pooling (MaxPooling1D): Reduzem a dimensionalidade e capturam as informações mais relevantes.\n",
    "- Dropout: Ajuda a evitar overfitting.\n",
    "- Camada Flatten: Transforma os mapas de features em um vetor de entrada para a camada totalmente conectada.\n",
    "- Camadas Densas (Dense): Realizam a classificação final usando a função de ativação softmax."
   ]
  },
  {
   "cell_type": "code",
   "execution_count": null,
   "metadata": {},
   "outputs": [
    {
     "name": "stderr",
     "output_type": "stream",
     "text": [
      "2025-09-17 14:54:29.964674: E external/local_xla/xla/stream_executor/cuda/cuda_platform.cc:51] failed call to cuInit: INTERNAL: CUDA error: Failed call to cuInit: UNKNOWN ERROR (303)\n"
     ]
    },
    {
     "data": {
      "text/html": [
       "<pre style=\"white-space:pre;overflow-x:auto;line-height:normal;font-family:Menlo,'DejaVu Sans Mono',consolas,'Courier New',monospace\"><span style=\"font-weight: bold\">Model: \"sequential\"</span>\n",
       "</pre>\n"
      ],
      "text/plain": [
       "\u001b[1mModel: \"sequential\"\u001b[0m\n"
      ]
     },
     "metadata": {},
     "output_type": "display_data"
    },
    {
     "data": {
      "text/html": [
       "<pre style=\"white-space:pre;overflow-x:auto;line-height:normal;font-family:Menlo,'DejaVu Sans Mono',consolas,'Courier New',monospace\">┏━━━━━━━━━━━━━━━━━━━━━━━━━━━━━━━━━┳━━━━━━━━━━━━━━━━━━━━━━━━┳━━━━━━━━━━━━━━━┓\n",
       "┃<span style=\"font-weight: bold\"> Layer (type)                    </span>┃<span style=\"font-weight: bold\"> Output Shape           </span>┃<span style=\"font-weight: bold\">       Param # </span>┃\n",
       "┡━━━━━━━━━━━━━━━━━━━━━━━━━━━━━━━━━╇━━━━━━━━━━━━━━━━━━━━━━━━╇━━━━━━━━━━━━━━━┩\n",
       "│ conv1d (<span style=\"color: #0087ff; text-decoration-color: #0087ff\">Conv1D</span>)                 │ (<span style=\"color: #00d7ff; text-decoration-color: #00d7ff\">None</span>, <span style=\"color: #00af00; text-decoration-color: #00af00\">40</span>, <span style=\"color: #00af00; text-decoration-color: #00af00\">256</span>)        │         <span style=\"color: #00af00; text-decoration-color: #00af00\">1,536</span> │\n",
       "├─────────────────────────────────┼────────────────────────┼───────────────┤\n",
       "│ max_pooling1d (<span style=\"color: #0087ff; text-decoration-color: #0087ff\">MaxPooling1D</span>)    │ (<span style=\"color: #00d7ff; text-decoration-color: #00d7ff\">None</span>, <span style=\"color: #00af00; text-decoration-color: #00af00\">20</span>, <span style=\"color: #00af00; text-decoration-color: #00af00\">256</span>)        │             <span style=\"color: #00af00; text-decoration-color: #00af00\">0</span> │\n",
       "├─────────────────────────────────┼────────────────────────┼───────────────┤\n",
       "│ conv1d_1 (<span style=\"color: #0087ff; text-decoration-color: #0087ff\">Conv1D</span>)               │ (<span style=\"color: #00d7ff; text-decoration-color: #00d7ff\">None</span>, <span style=\"color: #00af00; text-decoration-color: #00af00\">20</span>, <span style=\"color: #00af00; text-decoration-color: #00af00\">256</span>)        │       <span style=\"color: #00af00; text-decoration-color: #00af00\">327,936</span> │\n",
       "├─────────────────────────────────┼────────────────────────┼───────────────┤\n",
       "│ max_pooling1d_1 (<span style=\"color: #0087ff; text-decoration-color: #0087ff\">MaxPooling1D</span>)  │ (<span style=\"color: #00d7ff; text-decoration-color: #00d7ff\">None</span>, <span style=\"color: #00af00; text-decoration-color: #00af00\">10</span>, <span style=\"color: #00af00; text-decoration-color: #00af00\">256</span>)        │             <span style=\"color: #00af00; text-decoration-color: #00af00\">0</span> │\n",
       "├─────────────────────────────────┼────────────────────────┼───────────────┤\n",
       "│ conv1d_2 (<span style=\"color: #0087ff; text-decoration-color: #0087ff\">Conv1D</span>)               │ (<span style=\"color: #00d7ff; text-decoration-color: #00d7ff\">None</span>, <span style=\"color: #00af00; text-decoration-color: #00af00\">10</span>, <span style=\"color: #00af00; text-decoration-color: #00af00\">128</span>)        │       <span style=\"color: #00af00; text-decoration-color: #00af00\">163,968</span> │\n",
       "├─────────────────────────────────┼────────────────────────┼───────────────┤\n",
       "│ max_pooling1d_2 (<span style=\"color: #0087ff; text-decoration-color: #0087ff\">MaxPooling1D</span>)  │ (<span style=\"color: #00d7ff; text-decoration-color: #00d7ff\">None</span>, <span style=\"color: #00af00; text-decoration-color: #00af00\">5</span>, <span style=\"color: #00af00; text-decoration-color: #00af00\">128</span>)         │             <span style=\"color: #00af00; text-decoration-color: #00af00\">0</span> │\n",
       "├─────────────────────────────────┼────────────────────────┼───────────────┤\n",
       "│ dropout (<span style=\"color: #0087ff; text-decoration-color: #0087ff\">Dropout</span>)               │ (<span style=\"color: #00d7ff; text-decoration-color: #00d7ff\">None</span>, <span style=\"color: #00af00; text-decoration-color: #00af00\">5</span>, <span style=\"color: #00af00; text-decoration-color: #00af00\">128</span>)         │             <span style=\"color: #00af00; text-decoration-color: #00af00\">0</span> │\n",
       "├─────────────────────────────────┼────────────────────────┼───────────────┤\n",
       "│ conv1d_3 (<span style=\"color: #0087ff; text-decoration-color: #0087ff\">Conv1D</span>)               │ (<span style=\"color: #00d7ff; text-decoration-color: #00d7ff\">None</span>, <span style=\"color: #00af00; text-decoration-color: #00af00\">5</span>, <span style=\"color: #00af00; text-decoration-color: #00af00\">64</span>)          │        <span style=\"color: #00af00; text-decoration-color: #00af00\">41,024</span> │\n",
       "├─────────────────────────────────┼────────────────────────┼───────────────┤\n",
       "│ max_pooling1d_3 (<span style=\"color: #0087ff; text-decoration-color: #0087ff\">MaxPooling1D</span>)  │ (<span style=\"color: #00d7ff; text-decoration-color: #00d7ff\">None</span>, <span style=\"color: #00af00; text-decoration-color: #00af00\">3</span>, <span style=\"color: #00af00; text-decoration-color: #00af00\">64</span>)          │             <span style=\"color: #00af00; text-decoration-color: #00af00\">0</span> │\n",
       "├─────────────────────────────────┼────────────────────────┼───────────────┤\n",
       "│ flatten (<span style=\"color: #0087ff; text-decoration-color: #0087ff\">Flatten</span>)               │ (<span style=\"color: #00d7ff; text-decoration-color: #00d7ff\">None</span>, <span style=\"color: #00af00; text-decoration-color: #00af00\">192</span>)            │             <span style=\"color: #00af00; text-decoration-color: #00af00\">0</span> │\n",
       "├─────────────────────────────────┼────────────────────────┼───────────────┤\n",
       "│ dense (<span style=\"color: #0087ff; text-decoration-color: #0087ff\">Dense</span>)                   │ (<span style=\"color: #00d7ff; text-decoration-color: #00d7ff\">None</span>, <span style=\"color: #00af00; text-decoration-color: #00af00\">32</span>)             │         <span style=\"color: #00af00; text-decoration-color: #00af00\">6,176</span> │\n",
       "├─────────────────────────────────┼────────────────────────┼───────────────┤\n",
       "│ dropout_1 (<span style=\"color: #0087ff; text-decoration-color: #0087ff\">Dropout</span>)             │ (<span style=\"color: #00d7ff; text-decoration-color: #00d7ff\">None</span>, <span style=\"color: #00af00; text-decoration-color: #00af00\">32</span>)             │             <span style=\"color: #00af00; text-decoration-color: #00af00\">0</span> │\n",
       "├─────────────────────────────────┼────────────────────────┼───────────────┤\n",
       "│ dense_1 (<span style=\"color: #0087ff; text-decoration-color: #0087ff\">Dense</span>)                 │ (<span style=\"color: #00d7ff; text-decoration-color: #00d7ff\">None</span>, <span style=\"color: #00af00; text-decoration-color: #00af00\">8</span>)              │           <span style=\"color: #00af00; text-decoration-color: #00af00\">264</span> │\n",
       "└─────────────────────────────────┴────────────────────────┴───────────────┘\n",
       "</pre>\n"
      ],
      "text/plain": [
       "┏━━━━━━━━━━━━━━━━━━━━━━━━━━━━━━━━━┳━━━━━━━━━━━━━━━━━━━━━━━━┳━━━━━━━━━━━━━━━┓\n",
       "┃\u001b[1m \u001b[0m\u001b[1mLayer (type)                   \u001b[0m\u001b[1m \u001b[0m┃\u001b[1m \u001b[0m\u001b[1mOutput Shape          \u001b[0m\u001b[1m \u001b[0m┃\u001b[1m \u001b[0m\u001b[1m      Param #\u001b[0m\u001b[1m \u001b[0m┃\n",
       "┡━━━━━━━━━━━━━━━━━━━━━━━━━━━━━━━━━╇━━━━━━━━━━━━━━━━━━━━━━━━╇━━━━━━━━━━━━━━━┩\n",
       "│ conv1d (\u001b[38;5;33mConv1D\u001b[0m)                 │ (\u001b[38;5;45mNone\u001b[0m, \u001b[38;5;34m40\u001b[0m, \u001b[38;5;34m256\u001b[0m)        │         \u001b[38;5;34m1,536\u001b[0m │\n",
       "├─────────────────────────────────┼────────────────────────┼───────────────┤\n",
       "│ max_pooling1d (\u001b[38;5;33mMaxPooling1D\u001b[0m)    │ (\u001b[38;5;45mNone\u001b[0m, \u001b[38;5;34m20\u001b[0m, \u001b[38;5;34m256\u001b[0m)        │             \u001b[38;5;34m0\u001b[0m │\n",
       "├─────────────────────────────────┼────────────────────────┼───────────────┤\n",
       "│ conv1d_1 (\u001b[38;5;33mConv1D\u001b[0m)               │ (\u001b[38;5;45mNone\u001b[0m, \u001b[38;5;34m20\u001b[0m, \u001b[38;5;34m256\u001b[0m)        │       \u001b[38;5;34m327,936\u001b[0m │\n",
       "├─────────────────────────────────┼────────────────────────┼───────────────┤\n",
       "│ max_pooling1d_1 (\u001b[38;5;33mMaxPooling1D\u001b[0m)  │ (\u001b[38;5;45mNone\u001b[0m, \u001b[38;5;34m10\u001b[0m, \u001b[38;5;34m256\u001b[0m)        │             \u001b[38;5;34m0\u001b[0m │\n",
       "├─────────────────────────────────┼────────────────────────┼───────────────┤\n",
       "│ conv1d_2 (\u001b[38;5;33mConv1D\u001b[0m)               │ (\u001b[38;5;45mNone\u001b[0m, \u001b[38;5;34m10\u001b[0m, \u001b[38;5;34m128\u001b[0m)        │       \u001b[38;5;34m163,968\u001b[0m │\n",
       "├─────────────────────────────────┼────────────────────────┼───────────────┤\n",
       "│ max_pooling1d_2 (\u001b[38;5;33mMaxPooling1D\u001b[0m)  │ (\u001b[38;5;45mNone\u001b[0m, \u001b[38;5;34m5\u001b[0m, \u001b[38;5;34m128\u001b[0m)         │             \u001b[38;5;34m0\u001b[0m │\n",
       "├─────────────────────────────────┼────────────────────────┼───────────────┤\n",
       "│ dropout (\u001b[38;5;33mDropout\u001b[0m)               │ (\u001b[38;5;45mNone\u001b[0m, \u001b[38;5;34m5\u001b[0m, \u001b[38;5;34m128\u001b[0m)         │             \u001b[38;5;34m0\u001b[0m │\n",
       "├─────────────────────────────────┼────────────────────────┼───────────────┤\n",
       "│ conv1d_3 (\u001b[38;5;33mConv1D\u001b[0m)               │ (\u001b[38;5;45mNone\u001b[0m, \u001b[38;5;34m5\u001b[0m, \u001b[38;5;34m64\u001b[0m)          │        \u001b[38;5;34m41,024\u001b[0m │\n",
       "├─────────────────────────────────┼────────────────────────┼───────────────┤\n",
       "│ max_pooling1d_3 (\u001b[38;5;33mMaxPooling1D\u001b[0m)  │ (\u001b[38;5;45mNone\u001b[0m, \u001b[38;5;34m3\u001b[0m, \u001b[38;5;34m64\u001b[0m)          │             \u001b[38;5;34m0\u001b[0m │\n",
       "├─────────────────────────────────┼────────────────────────┼───────────────┤\n",
       "│ flatten (\u001b[38;5;33mFlatten\u001b[0m)               │ (\u001b[38;5;45mNone\u001b[0m, \u001b[38;5;34m192\u001b[0m)            │             \u001b[38;5;34m0\u001b[0m │\n",
       "├─────────────────────────────────┼────────────────────────┼───────────────┤\n",
       "│ dense (\u001b[38;5;33mDense\u001b[0m)                   │ (\u001b[38;5;45mNone\u001b[0m, \u001b[38;5;34m32\u001b[0m)             │         \u001b[38;5;34m6,176\u001b[0m │\n",
       "├─────────────────────────────────┼────────────────────────┼───────────────┤\n",
       "│ dropout_1 (\u001b[38;5;33mDropout\u001b[0m)             │ (\u001b[38;5;45mNone\u001b[0m, \u001b[38;5;34m32\u001b[0m)             │             \u001b[38;5;34m0\u001b[0m │\n",
       "├─────────────────────────────────┼────────────────────────┼───────────────┤\n",
       "│ dense_1 (\u001b[38;5;33mDense\u001b[0m)                 │ (\u001b[38;5;45mNone\u001b[0m, \u001b[38;5;34m8\u001b[0m)              │           \u001b[38;5;34m264\u001b[0m │\n",
       "└─────────────────────────────────┴────────────────────────┴───────────────┘\n"
      ]
     },
     "metadata": {},
     "output_type": "display_data"
    },
    {
     "data": {
      "text/html": [
       "<pre style=\"white-space:pre;overflow-x:auto;line-height:normal;font-family:Menlo,'DejaVu Sans Mono',consolas,'Courier New',monospace\"><span style=\"font-weight: bold\"> Total params: </span><span style=\"color: #00af00; text-decoration-color: #00af00\">540,904</span> (2.06 MB)\n",
       "</pre>\n"
      ],
      "text/plain": [
       "\u001b[1m Total params: \u001b[0m\u001b[38;5;34m540,904\u001b[0m (2.06 MB)\n"
      ]
     },
     "metadata": {},
     "output_type": "display_data"
    },
    {
     "data": {
      "text/html": [
       "<pre style=\"white-space:pre;overflow-x:auto;line-height:normal;font-family:Menlo,'DejaVu Sans Mono',consolas,'Courier New',monospace\"><span style=\"font-weight: bold\"> Trainable params: </span><span style=\"color: #00af00; text-decoration-color: #00af00\">540,904</span> (2.06 MB)\n",
       "</pre>\n"
      ],
      "text/plain": [
       "\u001b[1m Trainable params: \u001b[0m\u001b[38;5;34m540,904\u001b[0m (2.06 MB)\n"
      ]
     },
     "metadata": {},
     "output_type": "display_data"
    },
    {
     "data": {
      "text/html": [
       "<pre style=\"white-space:pre;overflow-x:auto;line-height:normal;font-family:Menlo,'DejaVu Sans Mono',consolas,'Courier New',monospace\"><span style=\"font-weight: bold\"> Non-trainable params: </span><span style=\"color: #00af00; text-decoration-color: #00af00\">0</span> (0.00 B)\n",
       "</pre>\n"
      ],
      "text/plain": [
       "\u001b[1m Non-trainable params: \u001b[0m\u001b[38;5;34m0\u001b[0m (0.00 B)\n"
      ]
     },
     "metadata": {},
     "output_type": "display_data"
    }
   ],
   "source": [
    "# Dica: você pode olhar a documentação e ir seguindo o passo a passo arquitetônico para criar o modelo.\n",
    "\n",
    "# Passo 1: Use Sequential() para criar o modelo como um contêiner linear.\n",
    "modelo = Sequential()\n",
    "# Passo 2: Adicione uma camada Conv1D com 256 filtros, kernel_size=5, strides=1, padding='same' e função de ativação 'relu'.\n",
    "modelo.add(Conv1D(256, kernel_size=5, strides=1, padding='same', activation='relu', input_shape=(40,1)))\n",
    "# Passo 3: Siga com uma camada MaxPooling1D com pool_size=5, strides=2, padding='same'.\n",
    "modelo.add(MaxPooling1D(pool_size=5, strides=2, padding='same'))\n",
    "# Passo 4: Adicione mais uma camada Conv1D com 256 filtros, kernel_size=5, strides=1, padding='same' e função de ativação 'relu'.\n",
    "modelo.add(Conv1D(256, kernel_size=5, strides=1, padding='same', activation='relu'))\n",
    "# Passo 5: Adicione mais uma camada MaxPooling1D com pool_size=5, strides=2, padding='same'.\n",
    "modelo.add(MaxPooling1D(pool_size=5, strides=2, padding='same'))\n",
    "# Passo 6: Adicione mais uma camada Conv1D com 128 filtros, kernel_size=5, strides=1, padding='same' e função de ativação 'relu'.\n",
    "modelo.add(Conv1D(128, kernel_size=5, strides=1, padding='same', activation='relu'))\n",
    "# Passo 7: Adicione mais uma camada MaxPooling1D com pool_size=5, strides=2, padding='same'.\n",
    "modelo.add(MaxPooling1D(pool_size=5, strides=2, padding='same'))\n",
    "# Passo 8: Adicione uma camada Dropout com 0.2 de taxa de dropout.\n",
    "modelo.add(Dropout(0.2))\n",
    "# Passo 9: Adicione mais uma camada Conv1D com 64 filtros, kernel_size=5, strides=1, padding='same' e função de ativação 'relu'.\n",
    "modelo.add(Conv1D(64, kernel_size=5, strides=1, padding='same', activation='relu'))\n",
    "# Passo 10: Adicione mais uma camada MaxPooling1D com pool_size=5, strides=2, padding='same'.\n",
    "modelo.add(MaxPooling1D(pool_size=5, strides=2, padding='same'))\n",
    "# Passo 11: Adicione uma camada Flatten.\n",
    "modelo.add(Flatten())\n",
    "# Passo 12: Adicione uma camada Dense com 32 unidades e função de ativação 'relu'.\n",
    "modelo.add(Dense(32, activation='relu'))\n",
    "# Passo 13: Adicione uma camada Dropout com 0.3 de taxa de dropout.\n",
    "modelo.add(Dropout(0.3))\n",
    "# Passo 14: Adicione uma camada Dense com 8 unidades e função de ativação 'softmax'.\n",
    "modelo.add(Dense(8, activation='softmax'))\n",
    "# Passo 15: Compile o modelo com otimizador 'adam', loss 'categorical_crossentropy' e métrica 'accuracy'.\n",
    "modelo.compile('adam', loss='categorical_crossentropy', metrics=['accuracy'])\n",
    "# Passo 16: Use model.summary() para visualizar o modelo.\n",
    "modelo.summary()\n",
    "# Code here"
   ]
  },
  {
   "cell_type": "markdown",
   "metadata": {},
   "source": [
    "### 3.1. Agora vamos de fato treinar o modelo, siga esses passos: \n",
    "##### 1. Use o callback para Ajustar a Taxa de Aprendizado \n",
    "##### ReduceLROnPlateau: Diminui a taxa de aprendizado quando uma métrica está estagnada.\n",
    "   Parâmetros:\n",
    "   - monitor='loss': Monitora a perda durante o treinamento.\n",
    "   - factor=0.4: Reduz a taxa de aprendizado por este fator.\n",
    "   - patience=2: Número de épocas sem melhora antes da redução.\n",
    "   - min_lr=0.0000001: Limite mínimo para a taxa de aprendizado.\n",
    "             \n",
    "##### 2. Treine o Modelo \n",
    "##### Utilize model.fit para iniciar o treino da rede neural.\n",
    "   Parâmetros:\n",
    "   - x_train, y_train: Conjunto de dados de treino.\n",
    "   - batch_size=64: Número de amostras por atualização de gradiente.\n",
    "   - epochs=50: Número de vezes que o modelo treina em todo o conjunto de dados.\n",
    "   - validation_data=(x_test, y_test): Conjunto de dados para validação durante o treino.\n",
    "   - callbacks=[rlrp]: Lista de callbacks a serem aplicados durante o treino.\n",
    "     "
   ]
  },
  {
   "cell_type": "code",
   "execution_count": 56,
   "metadata": {},
   "outputs": [],
   "source": [
    "ajustar_taxa_aprendizado = ReduceLROnPlateau(monitor='loss', factor=0.4, patience=2, min_lr=0.000000001)"
   ]
  },
  {
   "cell_type": "code",
   "execution_count": null,
   "metadata": {},
   "outputs": [
    {
     "name": "stdout",
     "output_type": "stream",
     "text": [
      "Epoch 1/75\n",
      "\u001b[1m81/81\u001b[0m \u001b[32m━━━━━━━━━━━━━━━━━━━━\u001b[0m\u001b[37m\u001b[0m \u001b[1m9s\u001b[0m 93ms/step - accuracy: 0.1767 - loss: 2.0334 - val_accuracy: 0.2130 - val_loss: 1.9968 - learning_rate: 0.0010\n",
      "Epoch 2/75\n",
      "\u001b[1m81/81\u001b[0m \u001b[32m━━━━━━━━━━━━━━━━━━━━\u001b[0m\u001b[37m\u001b[0m \u001b[1m16s\u001b[0m 195ms/step - accuracy: 0.2211 - loss: 1.9661 - val_accuracy: 0.2240 - val_loss: 1.9166 - learning_rate: 0.0010\n",
      "Epoch 3/75\n",
      "\u001b[1m81/81\u001b[0m \u001b[32m━━━━━━━━━━━━━━━━━━━━\u001b[0m\u001b[37m\u001b[0m \u001b[1m16s\u001b[0m 194ms/step - accuracy: 0.2500 - loss: 1.8941 - val_accuracy: 0.2737 - val_loss: 1.8478 - learning_rate: 0.0010\n",
      "Epoch 4/75\n",
      "\u001b[1m81/81\u001b[0m \u001b[32m━━━━━━━━━━━━━━━━━━━━\u001b[0m\u001b[37m\u001b[0m \u001b[1m16s\u001b[0m 194ms/step - accuracy: 0.2720 - loss: 1.8488 - val_accuracy: 0.2911 - val_loss: 1.8195 - learning_rate: 0.0010\n",
      "Epoch 5/75\n",
      "\u001b[1m81/81\u001b[0m \u001b[32m━━━━━━━━━━━━━━━━━━━━\u001b[0m\u001b[37m\u001b[0m \u001b[1m16s\u001b[0m 198ms/step - accuracy: 0.3044 - loss: 1.7804 - val_accuracy: 0.3391 - val_loss: 1.7550 - learning_rate: 0.0010\n",
      "Epoch 6/75\n",
      "\u001b[1m81/81\u001b[0m \u001b[32m━━━━━━━━━━━━━━━━━━━━\u001b[0m\u001b[37m\u001b[0m \u001b[1m16s\u001b[0m 199ms/step - accuracy: 0.3349 - loss: 1.7458 - val_accuracy: 0.3472 - val_loss: 1.7014 - learning_rate: 0.0010\n",
      "Epoch 7/75\n",
      "\u001b[1m81/81\u001b[0m \u001b[32m━━━━━━━━━━━━━━━━━━━━\u001b[0m\u001b[37m\u001b[0m \u001b[1m16s\u001b[0m 199ms/step - accuracy: 0.3484 - loss: 1.6998 - val_accuracy: 0.3646 - val_loss: 1.6682 - learning_rate: 0.0010\n",
      "Epoch 8/75\n",
      "\u001b[1m81/81\u001b[0m \u001b[32m━━━━━━━━━━━━━━━━━━━━\u001b[0m\u001b[37m\u001b[0m \u001b[1m17s\u001b[0m 204ms/step - accuracy: 0.3704 - loss: 1.6421 - val_accuracy: 0.3987 - val_loss: 1.6322 - learning_rate: 0.0010\n",
      "Epoch 9/75\n",
      "\u001b[1m81/81\u001b[0m \u001b[32m━━━━━━━━━━━━━━━━━━━━\u001b[0m\u001b[37m\u001b[0m \u001b[1m17s\u001b[0m 206ms/step - accuracy: 0.3765 - loss: 1.6175 - val_accuracy: 0.4010 - val_loss: 1.5955 - learning_rate: 0.0010\n",
      "Epoch 10/75\n",
      "\u001b[1m81/81\u001b[0m \u001b[32m━━━━━━━━━━━━━━━━━━━━\u001b[0m\u001b[37m\u001b[0m \u001b[1m16s\u001b[0m 200ms/step - accuracy: 0.4051 - loss: 1.5570 - val_accuracy: 0.4277 - val_loss: 1.5393 - learning_rate: 0.0010\n",
      "Epoch 11/75\n",
      "\u001b[1m81/81\u001b[0m \u001b[32m━━━━━━━━━━━━━━━━━━━━\u001b[0m\u001b[37m\u001b[0m \u001b[1m16s\u001b[0m 196ms/step - accuracy: 0.4228 - loss: 1.5201 - val_accuracy: 0.4207 - val_loss: 1.5501 - learning_rate: 0.0010\n",
      "Epoch 12/75\n",
      "\u001b[1m81/81\u001b[0m \u001b[32m━━━━━━━━━━━━━━━━━━━━\u001b[0m\u001b[37m\u001b[0m \u001b[1m16s\u001b[0m 199ms/step - accuracy: 0.4383 - loss: 1.4878 - val_accuracy: 0.4236 - val_loss: 1.5833 - learning_rate: 0.0010\n",
      "Epoch 13/75\n",
      "\u001b[1m81/81\u001b[0m \u001b[32m━━━━━━━━━━━━━━━━━━━━\u001b[0m\u001b[37m\u001b[0m \u001b[1m16s\u001b[0m 201ms/step - accuracy: 0.4356 - loss: 1.4697 - val_accuracy: 0.4433 - val_loss: 1.5307 - learning_rate: 0.0010\n",
      "Epoch 14/75\n",
      "\u001b[1m81/81\u001b[0m \u001b[32m━━━━━━━━━━━━━━━━━━━━\u001b[0m\u001b[37m\u001b[0m \u001b[1m16s\u001b[0m 190ms/step - accuracy: 0.4549 - loss: 1.4423 - val_accuracy: 0.4479 - val_loss: 1.5024 - learning_rate: 0.0010\n",
      "Epoch 15/75\n",
      "\u001b[1m81/81\u001b[0m \u001b[32m━━━━━━━━━━━━━━━━━━━━\u001b[0m\u001b[37m\u001b[0m \u001b[1m15s\u001b[0m 184ms/step - accuracy: 0.4807 - loss: 1.3815 - val_accuracy: 0.4624 - val_loss: 1.4610 - learning_rate: 0.0010\n",
      "Epoch 16/75\n",
      "\u001b[1m81/81\u001b[0m \u001b[32m━━━━━━━━━━━━━━━━━━━━\u001b[0m\u001b[37m\u001b[0m \u001b[1m17s\u001b[0m 204ms/step - accuracy: 0.4695 - loss: 1.3715 - val_accuracy: 0.4196 - val_loss: 1.5791 - learning_rate: 0.0010\n",
      "Epoch 17/75\n",
      "\u001b[1m81/81\u001b[0m \u001b[32m━━━━━━━━━━━━━━━━━━━━\u001b[0m\u001b[37m\u001b[0m \u001b[1m15s\u001b[0m 180ms/step - accuracy: 0.4792 - loss: 1.3369 - val_accuracy: 0.4693 - val_loss: 1.4522 - learning_rate: 0.0010\n",
      "Epoch 18/75\n",
      "\u001b[1m81/81\u001b[0m \u001b[32m━━━━━━━━━━━━━━━━━━━━\u001b[0m\u001b[37m\u001b[0m \u001b[1m13s\u001b[0m 159ms/step - accuracy: 0.4992 - loss: 1.3122 - val_accuracy: 0.4693 - val_loss: 1.4563 - learning_rate: 0.0010\n",
      "Epoch 19/75\n",
      "\u001b[1m81/81\u001b[0m \u001b[32m━━━━━━━━━━━━━━━━━━━━\u001b[0m\u001b[37m\u001b[0m \u001b[1m15s\u001b[0m 178ms/step - accuracy: 0.5305 - loss: 1.2524 - val_accuracy: 0.4549 - val_loss: 1.4737 - learning_rate: 0.0010\n",
      "Epoch 20/75\n",
      "\u001b[1m81/81\u001b[0m \u001b[32m━━━━━━━━━━━━━━━━━━━━\u001b[0m\u001b[37m\u001b[0m \u001b[1m15s\u001b[0m 180ms/step - accuracy: 0.5440 - loss: 1.2435 - val_accuracy: 0.4809 - val_loss: 1.4549 - learning_rate: 0.0010\n",
      "Epoch 21/75\n",
      "\u001b[1m81/81\u001b[0m \u001b[32m━━━━━━━━━━━━━━━━━━━━\u001b[0m\u001b[37m\u001b[0m \u001b[1m14s\u001b[0m 176ms/step - accuracy: 0.5444 - loss: 1.2074 - val_accuracy: 0.4792 - val_loss: 1.4587 - learning_rate: 0.0010\n",
      "Epoch 22/75\n",
      "\u001b[1m81/81\u001b[0m \u001b[32m━━━━━━━━━━━━━━━━━━━━\u001b[0m\u001b[37m\u001b[0m \u001b[1m14s\u001b[0m 170ms/step - accuracy: 0.5490 - loss: 1.1811 - val_accuracy: 0.4745 - val_loss: 1.4269 - learning_rate: 0.0010\n",
      "Epoch 23/75\n",
      "\u001b[1m81/81\u001b[0m \u001b[32m━━━━━━━━━━━━━━━━━━━━\u001b[0m\u001b[37m\u001b[0m \u001b[1m15s\u001b[0m 180ms/step - accuracy: 0.5640 - loss: 1.1462 - val_accuracy: 0.4745 - val_loss: 1.4527 - learning_rate: 0.0010\n",
      "Epoch 24/75\n",
      "\u001b[1m81/81\u001b[0m \u001b[32m━━━━━━━━━━━━━━━━━━━━\u001b[0m\u001b[37m\u001b[0m \u001b[1m14s\u001b[0m 177ms/step - accuracy: 0.5721 - loss: 1.1161 - val_accuracy: 0.4792 - val_loss: 1.4769 - learning_rate: 0.0010\n",
      "Epoch 25/75\n",
      "\u001b[1m81/81\u001b[0m \u001b[32m━━━━━━━━━━━━━━━━━━━━\u001b[0m\u001b[37m\u001b[0m \u001b[1m15s\u001b[0m 188ms/step - accuracy: 0.5992 - loss: 1.0462 - val_accuracy: 0.4838 - val_loss: 1.4918 - learning_rate: 0.0010\n",
      "Epoch 26/75\n",
      "\u001b[1m81/81\u001b[0m \u001b[32m━━━━━━━━━━━━━━━━━━━━\u001b[0m\u001b[37m\u001b[0m \u001b[1m15s\u001b[0m 191ms/step - accuracy: 0.6030 - loss: 1.0391 - val_accuracy: 0.4913 - val_loss: 1.4875 - learning_rate: 0.0010\n",
      "Epoch 27/75\n",
      "\u001b[1m81/81\u001b[0m \u001b[32m━━━━━━━━━━━━━━━━━━━━\u001b[0m\u001b[37m\u001b[0m \u001b[1m16s\u001b[0m 194ms/step - accuracy: 0.6262 - loss: 1.0035 - val_accuracy: 0.5023 - val_loss: 1.4545 - learning_rate: 0.0010\n",
      "Epoch 28/75\n",
      "\u001b[1m81/81\u001b[0m \u001b[32m━━━━━━━━━━━━━━━━━━━━\u001b[0m\u001b[37m\u001b[0m \u001b[1m15s\u001b[0m 190ms/step - accuracy: 0.6400 - loss: 0.9702 - val_accuracy: 0.4931 - val_loss: 1.4719 - learning_rate: 0.0010\n",
      "Epoch 29/75\n",
      "\u001b[1m81/81\u001b[0m \u001b[32m━━━━━━━━━━━━━━━━━━━━\u001b[0m\u001b[37m\u001b[0m \u001b[1m15s\u001b[0m 184ms/step - accuracy: 0.6497 - loss: 0.9319 - val_accuracy: 0.4988 - val_loss: 1.5270 - learning_rate: 0.0010\n",
      "Epoch 30/75\n",
      "\u001b[1m81/81\u001b[0m \u001b[32m━━━━━━━━━━━━━━━━━━━━\u001b[0m\u001b[37m\u001b[0m \u001b[1m14s\u001b[0m 167ms/step - accuracy: 0.6570 - loss: 0.9209 - val_accuracy: 0.4948 - val_loss: 1.5240 - learning_rate: 0.0010\n",
      "Epoch 31/75\n",
      "\u001b[1m81/81\u001b[0m \u001b[32m━━━━━━━━━━━━━━━━━━━━\u001b[0m\u001b[37m\u001b[0m \u001b[1m17s\u001b[0m 210ms/step - accuracy: 0.6609 - loss: 0.8924 - val_accuracy: 0.4983 - val_loss: 1.4607 - learning_rate: 0.0010\n",
      "Epoch 32/75\n",
      "\u001b[1m81/81\u001b[0m \u001b[32m━━━━━━━━━━━━━━━━━━━━\u001b[0m\u001b[37m\u001b[0m \u001b[1m13s\u001b[0m 164ms/step - accuracy: 0.6647 - loss: 0.8673 - val_accuracy: 0.4907 - val_loss: 1.5272 - learning_rate: 0.0010\n",
      "Epoch 33/75\n",
      "\u001b[1m81/81\u001b[0m \u001b[32m━━━━━━━━━━━━━━━━━━━━\u001b[0m\u001b[37m\u001b[0m \u001b[1m14s\u001b[0m 170ms/step - accuracy: 0.6782 - loss: 0.8479 - val_accuracy: 0.4948 - val_loss: 1.5170 - learning_rate: 0.0010\n",
      "Epoch 34/75\n",
      "\u001b[1m81/81\u001b[0m \u001b[32m━━━━━━━━━━━━━━━━━━━━\u001b[0m\u001b[37m\u001b[0m \u001b[1m13s\u001b[0m 166ms/step - accuracy: 0.7160 - loss: 0.7730 - val_accuracy: 0.4907 - val_loss: 1.6379 - learning_rate: 0.0010\n",
      "Epoch 35/75\n",
      "\u001b[1m81/81\u001b[0m \u001b[32m━━━━━━━━━━━━━━━━━━━━\u001b[0m\u001b[37m\u001b[0m \u001b[1m15s\u001b[0m 185ms/step - accuracy: 0.6813 - loss: 0.8210 - val_accuracy: 0.5000 - val_loss: 1.5812 - learning_rate: 0.0010\n",
      "Epoch 36/75\n",
      "\u001b[1m81/81\u001b[0m \u001b[32m━━━━━━━━━━━━━━━━━━━━\u001b[0m\u001b[37m\u001b[0m \u001b[1m16s\u001b[0m 195ms/step - accuracy: 0.7245 - loss: 0.7329 - val_accuracy: 0.5168 - val_loss: 1.6237 - learning_rate: 0.0010\n",
      "Epoch 37/75\n",
      "\u001b[1m81/81\u001b[0m \u001b[32m━━━━━━━━━━━━━━━━━━━━\u001b[0m\u001b[37m\u001b[0m \u001b[1m15s\u001b[0m 187ms/step - accuracy: 0.7199 - loss: 0.7126 - val_accuracy: 0.5052 - val_loss: 1.6873 - learning_rate: 0.0010\n",
      "Epoch 38/75\n",
      "\u001b[1m81/81\u001b[0m \u001b[32m━━━━━━━━━━━━━━━━━━━━\u001b[0m\u001b[37m\u001b[0m \u001b[1m16s\u001b[0m 195ms/step - accuracy: 0.7326 - loss: 0.6937 - val_accuracy: 0.5116 - val_loss: 1.6364 - learning_rate: 0.0010\n",
      "Epoch 39/75\n",
      "\u001b[1m81/81\u001b[0m \u001b[32m━━━━━━━━━━━━━━━━━━━━\u001b[0m\u001b[37m\u001b[0m \u001b[1m16s\u001b[0m 193ms/step - accuracy: 0.7473 - loss: 0.6560 - val_accuracy: 0.5012 - val_loss: 1.6559 - learning_rate: 0.0010\n",
      "Epoch 40/75\n",
      "\u001b[1m81/81\u001b[0m \u001b[32m━━━━━━━━━━━━━━━━━━━━\u001b[0m\u001b[37m\u001b[0m \u001b[1m17s\u001b[0m 155ms/step - accuracy: 0.7681 - loss: 0.6349 - val_accuracy: 0.5284 - val_loss: 1.7099 - learning_rate: 0.0010\n",
      "Epoch 41/75\n",
      "\u001b[1m81/81\u001b[0m \u001b[32m━━━━━━━━━━━━━━━━━━━━\u001b[0m\u001b[37m\u001b[0m \u001b[1m15s\u001b[0m 183ms/step - accuracy: 0.7589 - loss: 0.6374 - val_accuracy: 0.5104 - val_loss: 1.7040 - learning_rate: 0.0010\n",
      "Epoch 42/75\n",
      "\u001b[1m81/81\u001b[0m \u001b[32m━━━━━━━━━━━━━━━━━━━━\u001b[0m\u001b[37m\u001b[0m \u001b[1m15s\u001b[0m 184ms/step - accuracy: 0.7720 - loss: 0.5958 - val_accuracy: 0.5110 - val_loss: 1.8588 - learning_rate: 0.0010\n",
      "Epoch 43/75\n",
      "\u001b[1m81/81\u001b[0m \u001b[32m━━━━━━━━━━━━━━━━━━━━\u001b[0m\u001b[37m\u001b[0m \u001b[1m15s\u001b[0m 183ms/step - accuracy: 0.7812 - loss: 0.5983 - val_accuracy: 0.5243 - val_loss: 1.7331 - learning_rate: 0.0010\n",
      "Epoch 44/75\n",
      "\u001b[1m81/81\u001b[0m \u001b[32m━━━━━━━━━━━━━━━━━━━━\u001b[0m\u001b[37m\u001b[0m \u001b[1m15s\u001b[0m 185ms/step - accuracy: 0.7843 - loss: 0.5623 - val_accuracy: 0.5069 - val_loss: 1.8652 - learning_rate: 0.0010\n",
      "Epoch 45/75\n",
      "\u001b[1m81/81\u001b[0m \u001b[32m━━━━━━━━━━━━━━━━━━━━\u001b[0m\u001b[37m\u001b[0m \u001b[1m16s\u001b[0m 192ms/step - accuracy: 0.7805 - loss: 0.5748 - val_accuracy: 0.5185 - val_loss: 1.8621 - learning_rate: 0.0010\n",
      "Epoch 46/75\n",
      "\u001b[1m81/81\u001b[0m \u001b[32m━━━━━━━━━━━━━━━━━━━━\u001b[0m\u001b[37m\u001b[0m \u001b[1m15s\u001b[0m 182ms/step - accuracy: 0.7944 - loss: 0.5420 - val_accuracy: 0.5156 - val_loss: 1.8602 - learning_rate: 0.0010\n",
      "Epoch 47/75\n",
      "\u001b[1m81/81\u001b[0m \u001b[32m━━━━━━━━━━━━━━━━━━━━\u001b[0m\u001b[37m\u001b[0m \u001b[1m15s\u001b[0m 191ms/step - accuracy: 0.8067 - loss: 0.5259 - val_accuracy: 0.5093 - val_loss: 1.9152 - learning_rate: 0.0010\n",
      "Epoch 48/75\n",
      "\u001b[1m81/81\u001b[0m \u001b[32m━━━━━━━━━━━━━━━━━━━━\u001b[0m\u001b[37m\u001b[0m \u001b[1m15s\u001b[0m 191ms/step - accuracy: 0.8144 - loss: 0.4965 - val_accuracy: 0.4896 - val_loss: 2.2418 - learning_rate: 0.0010\n",
      "Epoch 49/75\n",
      "\u001b[1m81/81\u001b[0m \u001b[32m━━━━━━━━━━━━━━━━━━━━\u001b[0m\u001b[37m\u001b[0m \u001b[1m15s\u001b[0m 189ms/step - accuracy: 0.8067 - loss: 0.5047 - val_accuracy: 0.5127 - val_loss: 1.9002 - learning_rate: 0.0010\n",
      "Epoch 50/75\n",
      "\u001b[1m81/81\u001b[0m \u001b[32m━━━━━━━━━━━━━━━━━━━━\u001b[0m\u001b[37m\u001b[0m \u001b[1m15s\u001b[0m 191ms/step - accuracy: 0.8187 - loss: 0.4852 - val_accuracy: 0.5156 - val_loss: 1.9549 - learning_rate: 0.0010\n",
      "Epoch 51/75\n",
      "\u001b[1m81/81\u001b[0m \u001b[32m━━━━━━━━━━━━━━━━━━━━\u001b[0m\u001b[37m\u001b[0m \u001b[1m15s\u001b[0m 185ms/step - accuracy: 0.8426 - loss: 0.4436 - val_accuracy: 0.5324 - val_loss: 1.9297 - learning_rate: 0.0010\n",
      "Epoch 52/75\n",
      "\u001b[1m81/81\u001b[0m \u001b[32m━━━━━━━━━━━━━━━━━━━━\u001b[0m\u001b[37m\u001b[0m \u001b[1m15s\u001b[0m 186ms/step - accuracy: 0.8198 - loss: 0.4871 - val_accuracy: 0.5162 - val_loss: 1.9781 - learning_rate: 0.0010\n",
      "Epoch 53/75\n",
      "\u001b[1m81/81\u001b[0m \u001b[32m━━━━━━━━━━━━━━━━━━━━\u001b[0m\u001b[37m\u001b[0m \u001b[1m16s\u001b[0m 198ms/step - accuracy: 0.8565 - loss: 0.3918 - val_accuracy: 0.5110 - val_loss: 2.0955 - learning_rate: 0.0010\n",
      "Epoch 54/75\n",
      "\u001b[1m81/81\u001b[0m \u001b[32m━━━━━━━━━━━━━━━━━━━━\u001b[0m\u001b[37m\u001b[0m \u001b[1m16s\u001b[0m 197ms/step - accuracy: 0.8627 - loss: 0.3704 - val_accuracy: 0.5098 - val_loss: 2.1348 - learning_rate: 0.0010\n",
      "Epoch 55/75\n",
      "\u001b[1m81/81\u001b[0m \u001b[32m━━━━━━━━━━━━━━━━━━━━\u001b[0m\u001b[37m\u001b[0m \u001b[1m16s\u001b[0m 194ms/step - accuracy: 0.8576 - loss: 0.3810 - val_accuracy: 0.5064 - val_loss: 2.3380 - learning_rate: 0.0010\n",
      "Epoch 56/75\n",
      "\u001b[1m81/81\u001b[0m \u001b[32m━━━━━━━━━━━━━━━━━━━━\u001b[0m\u001b[37m\u001b[0m \u001b[1m16s\u001b[0m 193ms/step - accuracy: 0.8549 - loss: 0.3861 - val_accuracy: 0.5133 - val_loss: 2.1366 - learning_rate: 0.0010\n",
      "Epoch 57/75\n",
      "\u001b[1m81/81\u001b[0m \u001b[32m━━━━━━━━━━━━━━━━━━━━\u001b[0m\u001b[37m\u001b[0m \u001b[1m16s\u001b[0m 196ms/step - accuracy: 0.8962 - loss: 0.2861 - val_accuracy: 0.5197 - val_loss: 2.2799 - learning_rate: 4.0000e-04\n",
      "Epoch 58/75\n",
      "\u001b[1m81/81\u001b[0m \u001b[32m━━━━━━━━━━━━━━━━━━━━\u001b[0m\u001b[37m\u001b[0m \u001b[1m16s\u001b[0m 200ms/step - accuracy: 0.9113 - loss: 0.2417 - val_accuracy: 0.5336 - val_loss: 2.3383 - learning_rate: 4.0000e-04\n",
      "Epoch 59/75\n",
      "\u001b[1m81/81\u001b[0m \u001b[32m━━━━━━━━━━━━━━━━━━━━\u001b[0m\u001b[37m\u001b[0m \u001b[1m16s\u001b[0m 195ms/step - accuracy: 0.9109 - loss: 0.2325 - val_accuracy: 0.5284 - val_loss: 2.3457 - learning_rate: 4.0000e-04\n",
      "Epoch 60/75\n",
      "\u001b[1m81/81\u001b[0m \u001b[32m━━━━━━━━━━━━━━━━━━━━\u001b[0m\u001b[37m\u001b[0m \u001b[1m16s\u001b[0m 199ms/step - accuracy: 0.9348 - loss: 0.1925 - val_accuracy: 0.5272 - val_loss: 2.4952 - learning_rate: 4.0000e-04\n",
      "Epoch 61/75\n",
      "\u001b[1m81/81\u001b[0m \u001b[32m━━━━━━━━━━━━━━━━━━━━\u001b[0m\u001b[37m\u001b[0m \u001b[1m14s\u001b[0m 174ms/step - accuracy: 0.9282 - loss: 0.2077 - val_accuracy: 0.5301 - val_loss: 2.4084 - learning_rate: 4.0000e-04\n",
      "Epoch 62/75\n",
      "\u001b[1m81/81\u001b[0m \u001b[32m━━━━━━━━━━━━━━━━━━━━\u001b[0m\u001b[37m\u001b[0m \u001b[1m17s\u001b[0m 206ms/step - accuracy: 0.9306 - loss: 0.2000 - val_accuracy: 0.5336 - val_loss: 2.5470 - learning_rate: 4.0000e-04\n",
      "Epoch 63/75\n",
      "\u001b[1m81/81\u001b[0m \u001b[32m━━━━━━━━━━━━━━━━━━━━\u001b[0m\u001b[37m\u001b[0m \u001b[1m16s\u001b[0m 196ms/step - accuracy: 0.9348 - loss: 0.1743 - val_accuracy: 0.5266 - val_loss: 2.5276 - learning_rate: 1.6000e-04\n",
      "Epoch 64/75\n",
      "\u001b[1m81/81\u001b[0m \u001b[32m━━━━━━━━━━━━━━━━━━━━\u001b[0m\u001b[37m\u001b[0m \u001b[1m18s\u001b[0m 220ms/step - accuracy: 0.9379 - loss: 0.1708 - val_accuracy: 0.5353 - val_loss: 2.6456 - learning_rate: 1.6000e-04\n",
      "Epoch 65/75\n",
      "\u001b[1m81/81\u001b[0m \u001b[32m━━━━━━━━━━━━━━━━━━━━\u001b[0m\u001b[37m\u001b[0m \u001b[1m19s\u001b[0m 207ms/step - accuracy: 0.9468 - loss: 0.1538 - val_accuracy: 0.5399 - val_loss: 2.6218 - learning_rate: 1.6000e-04\n",
      "Epoch 66/75\n",
      "\u001b[1m81/81\u001b[0m \u001b[32m━━━━━━━━━━━━━━━━━━━━\u001b[0m\u001b[37m\u001b[0m \u001b[1m16s\u001b[0m 202ms/step - accuracy: 0.9421 - loss: 0.1577 - val_accuracy: 0.5405 - val_loss: 2.6615 - learning_rate: 1.6000e-04\n",
      "Epoch 67/75\n",
      "\u001b[1m81/81\u001b[0m \u001b[32m━━━━━━━━━━━━━━━━━━━━\u001b[0m\u001b[37m\u001b[0m \u001b[1m16s\u001b[0m 196ms/step - accuracy: 0.9344 - loss: 0.1655 - val_accuracy: 0.5388 - val_loss: 2.6344 - learning_rate: 1.6000e-04\n",
      "Epoch 68/75\n",
      "\u001b[1m81/81\u001b[0m \u001b[32m━━━━━━━━━━━━━━━━━━━━\u001b[0m\u001b[37m\u001b[0m \u001b[1m16s\u001b[0m 191ms/step - accuracy: 0.9468 - loss: 0.1503 - val_accuracy: 0.5457 - val_loss: 2.6569 - learning_rate: 6.4000e-05\n",
      "Epoch 69/75\n",
      "\u001b[1m81/81\u001b[0m \u001b[32m━━━━━━━━━━━━━━━━━━━━\u001b[0m\u001b[37m\u001b[0m \u001b[1m17s\u001b[0m 204ms/step - accuracy: 0.9452 - loss: 0.1503 - val_accuracy: 0.5480 - val_loss: 2.6765 - learning_rate: 6.4000e-05\n",
      "Epoch 70/75\n",
      "\u001b[1m81/81\u001b[0m \u001b[32m━━━━━━━━━━━━━━━━━━━━\u001b[0m\u001b[37m\u001b[0m \u001b[1m14s\u001b[0m 170ms/step - accuracy: 0.9433 - loss: 0.1523 - val_accuracy: 0.5469 - val_loss: 2.6373 - learning_rate: 6.4000e-05\n",
      "Epoch 71/75\n",
      "\u001b[1m81/81\u001b[0m \u001b[32m━━━━━━━━━━━━━━━━━━━━\u001b[0m\u001b[37m\u001b[0m \u001b[1m16s\u001b[0m 194ms/step - accuracy: 0.9549 - loss: 0.1377 - val_accuracy: 0.5411 - val_loss: 2.6516 - learning_rate: 2.5600e-05\n",
      "Epoch 72/75\n",
      "\u001b[1m81/81\u001b[0m \u001b[32m━━━━━━━━━━━━━━━━━━━━\u001b[0m\u001b[37m\u001b[0m \u001b[1m16s\u001b[0m 194ms/step - accuracy: 0.9514 - loss: 0.1341 - val_accuracy: 0.5428 - val_loss: 2.6740 - learning_rate: 2.5600e-05\n",
      "Epoch 73/75\n",
      "\u001b[1m81/81\u001b[0m \u001b[32m━━━━━━━━━━━━━━━━━━━━\u001b[0m\u001b[37m\u001b[0m \u001b[1m13s\u001b[0m 159ms/step - accuracy: 0.9444 - loss: 0.1464 - val_accuracy: 0.5434 - val_loss: 2.6790 - learning_rate: 2.5600e-05\n",
      "Epoch 74/75\n",
      "\u001b[1m81/81\u001b[0m \u001b[32m━━━━━━━━━━━━━━━━━━━━\u001b[0m\u001b[37m\u001b[0m \u001b[1m16s\u001b[0m 193ms/step - accuracy: 0.9479 - loss: 0.1394 - val_accuracy: 0.5457 - val_loss: 2.6927 - learning_rate: 2.5600e-05\n",
      "Epoch 75/75\n",
      "\u001b[1m81/81\u001b[0m \u001b[32m━━━━━━━━━━━━━━━━━━━━\u001b[0m\u001b[37m\u001b[0m \u001b[1m17s\u001b[0m 204ms/step - accuracy: 0.9506 - loss: 0.1459 - val_accuracy: 0.5451 - val_loss: 2.6874 - learning_rate: 1.0240e-05\n"
     ]
    }
   ],
   "source": [
    "\n",
    "X_train = X_train.astype('float32')\n",
    "X_test = X_test.astype('float32')\n",
    "Y_train = Y_train.astype('float32')\n",
    "Y_test = Y_test.astype('float32')\n",
    "\n",
    "input_shape = (X_train.shape[1], 1)\n",
    "modelo = Sequential([\n",
    "    Conv1D(256, kernel_size=5, strides=1, padding='same', activation='relu', input_shape=input_shape),\n",
    "    MaxPooling1D(pool_size=5, strides=2, padding='same'),\n",
    "    Conv1D(256, kernel_size=5, strides=1, padding='same', activation='relu'),\n",
    "    MaxPooling1D(pool_size=5, strides=2, padding='same'),\n",
    "    Conv1D(128, kernel_size=5, strides=1, padding='same', activation='relu'),\n",
    "    MaxPooling1D(pool_size=5, strides=2, padding='same'),\n",
    "    Dropout(0.2),\n",
    "    Conv1D(64, kernel_size=5, strides=1, padding='same', activation='relu'),\n",
    "    MaxPooling1D(pool_size=5, strides=2, padding='same'),\n",
    "    Flatten(),\n",
    "    Dense(32, activation='relu'),\n",
    "    Dropout(0.3),\n",
    "    Dense(8, activation='softmax')\n",
    "])\n",
    "\n",
    "\n",
    "modelo.compile(optimizer=keras.optimizers.Adam(learning_rate=0.0001),\n",
    "              loss='categorical_crossentropy',\n",
    "              metrics=['accuracy'])\n",
    "\n",
    "\n",
    "history = modelo.fit(\n",
    "    X_train,\n",
    "    Y_train,\n",
    "    batch_size=32,\n",
    "    epochs=50,\n",
    "    validation_data=(X_test, Y_test),\n",
    "    callbacks=[ajustar_taxa_aprendizado],\n",
    "    verbose=1\n",
    ")"
   ]
  },
  {
   "cell_type": "markdown",
   "metadata": {},
   "source": [
    "### 3.2. Avaliar e Visualizar a Performance do Modelo\n",
    "\n",
    "##### Passo 1: Avaliando o Modelo\n",
    "- **Precisão nos Dados de Teste**:\n",
    "  - Use `model.evaluate(x_test, y_test)` para calcular a precisão do modelo no conjunto de teste.\n",
    "\n",
    "##### Passo 2: Preparando os Gráficos\n",
    "- **Definindo Épocas**:\n",
    "  - Crie uma lista de épocas para o eixo x\n",
    "- **Configurando o Layout do Gráfico**:\n",
    "  - Use `fig, ax = plt.subplots(1, 2)` para criar dois gráficos lado a lado.\n",
    "\n",
    "##### Passo 3: Plotando a Perda\n",
    "- **Gráfico de Perda**:\n",
    "  - Plote a perda de treino e teste:\n",
    "    ```python\n",
    "    ax[0].plot(epochs, train_loss, label='Training Loss')\n",
    "    ax[0].plot(epochs, test_loss, label='Testing Loss')\n",
    "    ```\n",
    "\n",
    "##### Passo 4: Plotando a Precisão\n",
    "- **Gráfico de Precisão**:\n",
    "  - Plote a precisão de treino e teste:\n",
    "    ```python\n",
    "    ax[1].plot(epochs, train_acc, label='Training Accuracy')\n",
    "    ax[1].plot(epochs, test_acc, label='Testing Accuracy')\n",
    "    ```\n",
    "\n",
    "##### Objetivos:\n",
    "  - **Perda**: Ajuda a identificar se o modelo está treinando bem ou se há overfitting.\n",
    "  - **Precisão**: Mostra o quão eficaz é o treinamento do modelo em acertar as previsões.\n"
   ]
  },
  {
   "cell_type": "code",
   "execution_count": 58,
   "metadata": {},
   "outputs": [
    {
     "name": "stdout",
     "output_type": "stream",
     "text": [
      "54/54 - 1s - 20ms/step - accuracy: 0.5451 - loss: 2.6874\n",
      "\n",
      "Acurácia no teste: 0.5451388955116272\n",
      "\n",
      "Perda no teste: 2.68744158744812\n"
     ]
    },
    {
     "data": {
      "image/png": "[encoded data removed]",
      "text/plain": [
       "<Figure size 1500x500 with 2 Axes>"
      ]
     },
     "metadata": {},
     "output_type": "display_data"
    }
   ],
   "source": [
    "# passo um\n",
    "test_loss, test_acc = modelo.evaluate(X_test, Y_test, verbose=2)\n",
    "print('\\nAcurácia no teste:', test_acc)\n",
    "print('\\nPerda no teste:', test_loss)\n",
    "# passo dois\n",
    "loss_train = history.history['loss']\n",
    "loss_test = history.history['val_loss']\n",
    "acc_train = history.history['accuracy']\n",
    "acc_test = history.history['val_accuracy']\n",
    "epocas = range(1, len(loss_train) + 1)\n",
    "fig, ax = plt.subplots(1, 2, figsize=(15, 5))\n",
    "# passo tres\n",
    "ax[0].plot(epocas, loss_train, 'b-', label='Perda de treino')\n",
    "ax[0].plot(epocas, loss_test, 'r-', label='Perda de teste')\n",
    "ax[0].set_title('Gráfico de perda')\n",
    "ax[0].set_xlabel('Épocas')\n",
    "ax[0].set_ylabel('Perda')\n",
    "ax[0].legend()\n",
    "ax[0].grid(True)\n",
    "# passo quatro\n",
    "ax[1].plot(epocas, acc_train, 'b-', label='Acurácia de treino')\n",
    "ax[1].plot(epocas, acc_test, 'r-', label='Acurácia de teste')\n",
    "ax[1].set_title('Gráfico de acurácia')\n",
    "ax[1].set_xlabel('Épocas')\n",
    "ax[1].set_ylabel('Acurácia')\n",
    "ax[1].legend()\n",
    "ax[1].grid(True)\n",
    "\n",
    "plt.tight_layout()\n",
    "plt.show()"
   ]
  },
  {
   "cell_type": "markdown",
   "metadata": {},
   "source": [
    "### 3.3. Chegou a parte boa! vamos prever os valores nos dados de teste\n",
    "- Passo 1: Use model.predict() no x_test e salve o resultado em pred_test.\n",
    "- Passo 2: Crie y_pred a partir de pred_test usando inverse_transform do encoder (Precisamos converter as previsões codificadas do One-Hot de volta aos rótulos originais)\n",
    "- Passo 3: Faça o mesmo para os rótulos de teste (y_test), decodificando-os de volta aos rótulos originais."
   ]
  },
  {
   "cell_type": "code",
   "execution_count": null,
   "metadata": {},
   "outputs": [
    {
     "name": "stdout",
     "output_type": "stream",
     "text": [
      "\u001b[1m54/54\u001b[0m \u001b[32m━━━━━━━━━━━━━━━━━━━━\u001b[0m\u001b[37m\u001b[0m \u001b[1m2s\u001b[0m 32ms/step\n"
     ]
    }
   ],
   "source": [
    "# passo um\n",
    "pred_test = modelo.predict(X_test)\n",
    "pred_classes = np.argmax(pred_test, axis=1).reshape(-1, 1)\n",
    "# passo dois\n",
    "y_pred = encoder.inverse_transform(np.eye(pred_test.shape[1])[pred_classes.flatten()])\n",
    "# passo tres\n",
    "y_test = encoder.inverse_transform(Y_test)"
   ]
  },
  {
   "cell_type": "code",
   "execution_count": null,
   "metadata": {},
   "outputs": [
    {
     "data": {
      "text/html": [
       "<div>\n",
       "<style scoped>\n",
       "    .dataframe tbody tr th:only-of-type {\n",
       "        vertical-align: middle;\n",
       "    }\n",
       "\n",
       "    .dataframe tbody tr th {\n",
       "        vertical-align: top;\n",
       "    }\n",
       "\n",
       "    .dataframe thead th {\n",
       "        text-align: right;\n",
       "    }\n",
       "</style>\n",
       "<table border=\"1\" class=\"dataframe\">\n",
       "  <thead>\n",
       "    <tr style=\"text-align: right;\">\n",
       "      <th></th>\n",
       "      <th>Predicted Labels</th>\n",
       "      <th>Actual Labels</th>\n",
       "    </tr>\n",
       "  </thead>\n",
       "  <tbody>\n",
       "    <tr>\n",
       "      <th>0</th>\n",
       "      <td>fear</td>\n",
       "      <td>fear</td>\n",
       "    </tr>\n",
       "    <tr>\n",
       "      <th>1</th>\n",
       "      <td>angry</td>\n",
       "      <td>angry</td>\n",
       "    </tr>\n",
       "    <tr>\n",
       "      <th>2</th>\n",
       "      <td>surprise</td>\n",
       "      <td>surprise</td>\n",
       "    </tr>\n",
       "    <tr>\n",
       "      <th>3</th>\n",
       "      <td>surprise</td>\n",
       "      <td>surprise</td>\n",
       "    </tr>\n",
       "    <tr>\n",
       "      <th>4</th>\n",
       "      <td>happy</td>\n",
       "      <td>happy</td>\n",
       "    </tr>\n",
       "    <tr>\n",
       "      <th>5</th>\n",
       "      <td>calm</td>\n",
       "      <td>calm</td>\n",
       "    </tr>\n",
       "    <tr>\n",
       "      <th>6</th>\n",
       "      <td>fear</td>\n",
       "      <td>happy</td>\n",
       "    </tr>\n",
       "    <tr>\n",
       "      <th>7</th>\n",
       "      <td>fear</td>\n",
       "      <td>surprise</td>\n",
       "    </tr>\n",
       "    <tr>\n",
       "      <th>8</th>\n",
       "      <td>calm</td>\n",
       "      <td>calm</td>\n",
       "    </tr>\n",
       "    <tr>\n",
       "      <th>9</th>\n",
       "      <td>disgust</td>\n",
       "      <td>disgust</td>\n",
       "    </tr>\n",
       "  </tbody>\n",
       "</table>\n",
       "</div>"
      ],
      "text/plain": [
       "  Predicted Labels Actual Labels\n",
       "0             fear          fear\n",
       "1            angry         angry\n",
       "2         surprise      surprise\n",
       "3         surprise      surprise\n",
       "4            happy         happy\n",
       "5             calm          calm\n",
       "6             fear         happy\n",
       "7             fear      surprise\n",
       "8             calm          calm\n",
       "9          disgust       disgust"
      ]
     },
     "execution_count": 88,
     "metadata": {},
     "output_type": "execute_result"
    }
   ],
   "source": [
    "# Rode essa célula para ver se o modelo que criamos está fazendo sentido para a maioria dos valores.\n",
    "\n",
    "df = pd.DataFrame(columns=['Predicted Labels', 'Actual Labels'])\n",
    "df['Predicted Labels'] = y_pred.flatten()\n",
    "df['Actual Labels'] = y_test.flatten()\n",
    "\n",
    "df.head(10)"
   ]
  },
  {
   "cell_type": "markdown",
   "metadata": {},
   "source": [
    "### 3.4. Plotar Matriz de Confusão\n",
    "- Agora tenho um desafio para você, eu quero que você crie uma matriz de confusão que relacione os resultados preditos com os valores reais das emoções!"
   ]
  },
  {
   "cell_type": "code",
   "execution_count": null,
   "metadata": {},
   "outputs": [],
   "source": [
    "from sklearn import metrics"
   ]
  },
  {
   "cell_type": "code",
   "execution_count": null,
   "metadata": {},
   "outputs": [
    {
     "data": {
      "image/png": "[encoded data removed]",
      "text/plain": [
       "<Figure size 1200x800 with 2 Axes>"
      ]
     },
     "metadata": {},
     "output_type": "display_data"
    }
   ],
   "source": [
    "from sklearn.metrics import confusion_matrix as cm\n",
    "\n",
    "mc = cm(y_test, y_pred)\n",
    "emocoes = df['Actual Labels'].unique()\n",
    "\n",
    "plt.figure(figsize=(12, 8))\n",
    "\n",
    "sns.heatmap(mc, \n",
    "            annot=True,           \n",
    "            fmt='d',              \n",
    "            cmap='Blues',         \n",
    "            xticklabels=emocoes,\n",
    "            yticklabels=emocoes,\n",
    "            linewidths=1)\n",
    "plt.show()"
   ]
  },
  {
   "cell_type": "code",
   "execution_count": null,
   "metadata": {},
   "outputs": [
    {
     "name": "stdout",
     "output_type": "stream",
     "text": [
      "              precision    recall  f1-score   support\n",
      "\n",
      "       angry       0.72      0.63      0.67       248\n",
      "        calm       0.72      0.64      0.68       227\n",
      "     disgust       0.45      0.52      0.48       239\n",
      "        fear       0.57      0.48      0.52       223\n",
      "       happy       0.41      0.45      0.43       224\n",
      "     neutral       0.36      0.32      0.33       111\n",
      "         sad       0.42      0.52      0.46       223\n",
      "    surprise       0.68      0.64      0.66       233\n",
      "\n",
      "    accuracy                           0.54      1728\n",
      "   macro avg       0.54      0.52      0.53      1728\n",
      "weighted avg       0.55      0.54      0.54      1728\n",
      "\n"
     ]
    }
   ],
   "source": [
    "# Use a função classification_report do sklearn para visualizar a precisão, recall e f1-score do modelo.\n",
    "# Code here\n",
    "class_report = classification_report(y_test, y_pred)\n",
    "print(class_report)"
   ]
  },
  {
   "cell_type": "markdown",
   "metadata": {},
   "source": [
    "### 4. Conclusão\n",
    "- Podemos ver que nosso modelo é mais preciso na predição das emoções surpresa e raiva, o que faz sentido, pois os arquivos de áudio dessas emoções diferem bastante dos outros em aspectos como tom, velocidade, etc.\n",
    "- No geral, alcançamos 62% de precisão nos dados de teste, o que é razoável, mas podemos melhorar ainda mais aplicando mais técnicas de aumento de dados e utilizando outros métodos de extração de features."
   ]
  },
  {
   "cell_type": "markdown",
   "metadata": {},
   "source": [
    "### 5. Salvando o Modelo e o Scaler"
   ]
  },
  {
   "cell_type": "markdown",
   "metadata": {},
   "source": [
    "##### Passo 1: Salvando o Modelo\n",
    "1. **Importação:** Use o `load_model` do Keras.\n",
    "2. **Diretório:** Crie um diretório chamado `models` se não existir.\n",
    "3. **Salvar:** Salve o modelo como no caminho especificado.\n",
    "\n",
    "##### Passo 2: Salvando o Scaler\n",
    "1. **Importação:** Use `joblib`.\n",
    "2. **Diretório:** Utilize o mesmo caminho `models`.\n",
    "3. **Salvar:** Salve o scaler."
   ]
  },
  {
   "cell_type": "code",
   "execution_count": 28,
   "metadata": {},
   "outputs": [
    {
     "name": "stdout",
     "output_type": "stream",
     "text": [
      "Modelo salvo em: /home/larissa/Downloads/Trilha/miniprojeto2/models/emotion_recognition_model.pkl\n",
      "Scaler salvo em: /home/larissa/Downloads/Trilha/miniprojeto2/models/scaler.pkl\n"
     ]
    }
   ],
   "source": [
    "import joblib\n",
    "\n",
    "models_dir = os.path.join(os.path.dirname(os.getcwd()), \"models\")\n",
    "os.makedirs(models_dir, exist_ok=True)\n",
    "\n",
    "model_path = os.path.join(models_dir, \"emotion_recognition_model.pkl\")\n",
    "joblib.dump(modelo, model_path)\n",
    "\n",
    "scaler_path = os.path.join(models_dir, \"scaler.pkl\")\n",
    "joblib.dump(stdScaler, scaler_path)\n",
    "\n",
    "print(f\"Modelo salvo em: {model_path}\")\n",
    "print(f\"Scaler salvo em: {scaler_path}\")"
   ]
  }
 ],
 "metadata": {
  "kernelspec": {
   "display_name": "Python 3",
   "language": "python",
   "name": "python3"
  },
  "language_info": {
   "codemirror_mode": {
    "name": "ipython",
    "version": 3
   },
   "file_extension": ".py",
   "mimetype": "text/x-python",
   "name": "python",
   "nbconvert_exporter": "python",
   "pygments_lexer": "ipython3",
   "version": "3.12.11"
  }
 },
 "nbformat": 4,
 "nbformat_minor": 4
}
